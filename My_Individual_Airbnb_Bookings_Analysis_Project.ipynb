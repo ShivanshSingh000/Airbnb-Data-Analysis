{
  "nbformat": 4,
  "nbformat_minor": 0,
  "metadata": {
    "colab": {
      "name": "My Individual Airbnb Bookings Analysis - Project",
      "provenance": [],
      "collapsed_sections": []
    },
    "kernelspec": {
      "display_name": "Python 3",
      "language": "python",
      "name": "python3"
    },
    "language_info": {
      "codemirror_mode": {
        "name": "ipython",
        "version": 3
      },
      "file_extension": ".py",
      "mimetype": "text/x-python",
      "name": "python",
      "nbconvert_exporter": "python",
      "pygments_lexer": "ipython3",
      "version": "3.6.6"
    }
  },
  "cells": [
    {
      "cell_type": "markdown",
      "metadata": {
        "id": "Y06xIdG26kRF"
      },
      "source": [
        "\n",
        "##<b> Since 2008, guests and hosts have used Airbnb to expand on traveling possibilities and present a more unique, personalized way of experiencing the world. Today, Airbnb became one of a kind service that is used and recognized by the whole world. Data analysis on millions of listings provided through Airbnb is a crucial factor for the company. These millions of listings generate a lot of data - data that can be analyzed and used for security, business decisions, understanding of customers' and providers' (hosts) behavior and performance on the platform, guiding marketing initiatives, implementation of innovative additional services and much more. </b>\n",
        "\n",
        "## <b>This dataset has around 49,000 observations in it with 16 columns and it is a mix between categorical and numeric values. </b>\n",
        "\n",
        "## <b> Explore and analyze the data to discover key understandings (not limited to these) such as : \n",
        "* What can we learn about different hosts and areas?\n",
        "* What can we learn from predictions? (ex: locations, prices, reviews, etc)\n",
        "* Which property type is the busiest and why?\n",
        "* Is there any noticeable difference of traffic among different areas and what could be the reason for it? </b>"
      ]
    },
    {
      "cell_type": "markdown",
      "metadata": {
        "id": "GlXy2dJ-4AfK"
      },
      "source": [
        "We have analyze the given dataset well and We will not only findout the answers of the above questions but we will also find the answer of these questions -\n",
        "\n",
        "*      Which type of room has the highest and lowest reviews and why?\n",
        "*      Is there any other crucial factor for hosts than pricing? \n",
        "\n",
        "To get the answers of these questions, We're going to findout their most relevant answers.\n"
      ]
    },
    {
      "cell_type": "markdown",
      "metadata": {
        "id": "uJ1rwB2-JT_7"
      },
      "source": [
        "Now we're going to explore it to understand the key understandings of the Dataset"
      ]
    },
    {
      "cell_type": "code",
      "metadata": {
        "id": "dByMsuzT8Tnw"
      },
      "source": [
        "import numpy as np\n",
        "import pandas as pd\n",
        "import matplotlib.pyplot as plt\n",
        "import seaborn as sns\n",
        "from google.colab import drive\n",
        "%matplotlib inline"
      ],
      "execution_count": null,
      "outputs": []
    },
    {
      "cell_type": "code",
      "metadata": {
        "colab": {
          "base_uri": "https://localhost:8080/"
        },
        "id": "dnKsRdxP778t",
        "outputId": "9d2c3103-f9ea-4b18-dc63-7b2862a015f8"
      },
      "source": [
        "from google.colab import drive\n",
        "drive.mount('/content/drive')"
      ],
      "execution_count": null,
      "outputs": [
        {
          "output_type": "stream",
          "text": [
            "Mounted at /content/drive\n"
          ],
          "name": "stdout"
        }
      ]
    },
    {
      "cell_type": "code",
      "metadata": {
        "id": "wqOPeLyl-N-N"
      },
      "source": [
        "df = pd.read_csv('/content/drive/MyDrive/Airbnb NYC 2019.csv')"
      ],
      "execution_count": null,
      "outputs": []
    },
    {
      "cell_type": "code",
      "metadata": {
        "colab": {
          "base_uri": "https://localhost:8080/",
          "height": 411
        },
        "id": "vTfeiXQf-bEE",
        "outputId": "544fdc76-d5fb-444c-b3dc-ed3a5d99e747"
      },
      "source": [
        "df.head()"
      ],
      "execution_count": null,
      "outputs": [
        {
          "output_type": "execute_result",
          "data": {
            "text/html": [
              "<div>\n",
              "<style scoped>\n",
              "    .dataframe tbody tr th:only-of-type {\n",
              "        vertical-align: middle;\n",
              "    }\n",
              "\n",
              "    .dataframe tbody tr th {\n",
              "        vertical-align: top;\n",
              "    }\n",
              "\n",
              "    .dataframe thead th {\n",
              "        text-align: right;\n",
              "    }\n",
              "</style>\n",
              "<table border=\"1\" class=\"dataframe\">\n",
              "  <thead>\n",
              "    <tr style=\"text-align: right;\">\n",
              "      <th></th>\n",
              "      <th>id</th>\n",
              "      <th>name</th>\n",
              "      <th>host_id</th>\n",
              "      <th>host_name</th>\n",
              "      <th>neighbourhood_group</th>\n",
              "      <th>neighbourhood</th>\n",
              "      <th>latitude</th>\n",
              "      <th>longitude</th>\n",
              "      <th>room_type</th>\n",
              "      <th>price</th>\n",
              "      <th>minimum_nights</th>\n",
              "      <th>number_of_reviews</th>\n",
              "      <th>last_review</th>\n",
              "      <th>reviews_per_month</th>\n",
              "      <th>calculated_host_listings_count</th>\n",
              "      <th>availability_365</th>\n",
              "    </tr>\n",
              "  </thead>\n",
              "  <tbody>\n",
              "    <tr>\n",
              "      <th>0</th>\n",
              "      <td>2539</td>\n",
              "      <td>Clean &amp; quiet apt home by the park</td>\n",
              "      <td>2787</td>\n",
              "      <td>John</td>\n",
              "      <td>Brooklyn</td>\n",
              "      <td>Kensington</td>\n",
              "      <td>40.64749</td>\n",
              "      <td>-73.97237</td>\n",
              "      <td>Private room</td>\n",
              "      <td>149</td>\n",
              "      <td>1</td>\n",
              "      <td>9</td>\n",
              "      <td>2018-10-19</td>\n",
              "      <td>0.21</td>\n",
              "      <td>6</td>\n",
              "      <td>365</td>\n",
              "    </tr>\n",
              "    <tr>\n",
              "      <th>1</th>\n",
              "      <td>2595</td>\n",
              "      <td>Skylit Midtown Castle</td>\n",
              "      <td>2845</td>\n",
              "      <td>Jennifer</td>\n",
              "      <td>Manhattan</td>\n",
              "      <td>Midtown</td>\n",
              "      <td>40.75362</td>\n",
              "      <td>-73.98377</td>\n",
              "      <td>Entire home/apt</td>\n",
              "      <td>225</td>\n",
              "      <td>1</td>\n",
              "      <td>45</td>\n",
              "      <td>2019-05-21</td>\n",
              "      <td>0.38</td>\n",
              "      <td>2</td>\n",
              "      <td>355</td>\n",
              "    </tr>\n",
              "    <tr>\n",
              "      <th>2</th>\n",
              "      <td>3647</td>\n",
              "      <td>THE VILLAGE OF HARLEM....NEW YORK !</td>\n",
              "      <td>4632</td>\n",
              "      <td>Elisabeth</td>\n",
              "      <td>Manhattan</td>\n",
              "      <td>Harlem</td>\n",
              "      <td>40.80902</td>\n",
              "      <td>-73.94190</td>\n",
              "      <td>Private room</td>\n",
              "      <td>150</td>\n",
              "      <td>3</td>\n",
              "      <td>0</td>\n",
              "      <td>NaN</td>\n",
              "      <td>NaN</td>\n",
              "      <td>1</td>\n",
              "      <td>365</td>\n",
              "    </tr>\n",
              "    <tr>\n",
              "      <th>3</th>\n",
              "      <td>3831</td>\n",
              "      <td>Cozy Entire Floor of Brownstone</td>\n",
              "      <td>4869</td>\n",
              "      <td>LisaRoxanne</td>\n",
              "      <td>Brooklyn</td>\n",
              "      <td>Clinton Hill</td>\n",
              "      <td>40.68514</td>\n",
              "      <td>-73.95976</td>\n",
              "      <td>Entire home/apt</td>\n",
              "      <td>89</td>\n",
              "      <td>1</td>\n",
              "      <td>270</td>\n",
              "      <td>2019-07-05</td>\n",
              "      <td>4.64</td>\n",
              "      <td>1</td>\n",
              "      <td>194</td>\n",
              "    </tr>\n",
              "    <tr>\n",
              "      <th>4</th>\n",
              "      <td>5022</td>\n",
              "      <td>Entire Apt: Spacious Studio/Loft by central park</td>\n",
              "      <td>7192</td>\n",
              "      <td>Laura</td>\n",
              "      <td>Manhattan</td>\n",
              "      <td>East Harlem</td>\n",
              "      <td>40.79851</td>\n",
              "      <td>-73.94399</td>\n",
              "      <td>Entire home/apt</td>\n",
              "      <td>80</td>\n",
              "      <td>10</td>\n",
              "      <td>9</td>\n",
              "      <td>2018-11-19</td>\n",
              "      <td>0.10</td>\n",
              "      <td>1</td>\n",
              "      <td>0</td>\n",
              "    </tr>\n",
              "  </tbody>\n",
              "</table>\n",
              "</div>"
            ],
            "text/plain": [
              "     id  ... availability_365\n",
              "0  2539  ...              365\n",
              "1  2595  ...              355\n",
              "2  3647  ...              365\n",
              "3  3831  ...              194\n",
              "4  5022  ...                0\n",
              "\n",
              "[5 rows x 16 columns]"
            ]
          },
          "metadata": {
            "tags": []
          },
          "execution_count": 4
        }
      ]
    },
    {
      "cell_type": "code",
      "metadata": {
        "colab": {
          "base_uri": "https://localhost:8080/"
        },
        "id": "q4vI4RMaJ7vZ",
        "outputId": "13777c33-6dba-45aa-8a22-99d89f122b4a"
      },
      "source": [
        "df.shape"
      ],
      "execution_count": null,
      "outputs": [
        {
          "output_type": "execute_result",
          "data": {
            "text/plain": [
              "(48895, 16)"
            ]
          },
          "metadata": {
            "tags": []
          },
          "execution_count": 5
        }
      ]
    },
    {
      "cell_type": "code",
      "metadata": {
        "colab": {
          "base_uri": "https://localhost:8080/"
        },
        "id": "2IZR5bt6B2pV",
        "outputId": "44c087f6-e86f-4189-ad75-a2b81edc5cae"
      },
      "source": [
        "df.info()"
      ],
      "execution_count": null,
      "outputs": [
        {
          "output_type": "stream",
          "text": [
            "<class 'pandas.core.frame.DataFrame'>\n",
            "RangeIndex: 48895 entries, 0 to 48894\n",
            "Data columns (total 16 columns):\n",
            " #   Column                          Non-Null Count  Dtype  \n",
            "---  ------                          --------------  -----  \n",
            " 0   id                              48895 non-null  int64  \n",
            " 1   name                            48879 non-null  object \n",
            " 2   host_id                         48895 non-null  int64  \n",
            " 3   host_name                       48874 non-null  object \n",
            " 4   neighbourhood_group             48895 non-null  object \n",
            " 5   neighbourhood                   48895 non-null  object \n",
            " 6   latitude                        48895 non-null  float64\n",
            " 7   longitude                       48895 non-null  float64\n",
            " 8   room_type                       48895 non-null  object \n",
            " 9   price                           48895 non-null  int64  \n",
            " 10  minimum_nights                  48895 non-null  int64  \n",
            " 11  number_of_reviews               48895 non-null  int64  \n",
            " 12  last_review                     38843 non-null  object \n",
            " 13  reviews_per_month               38843 non-null  float64\n",
            " 14  calculated_host_listings_count  48895 non-null  int64  \n",
            " 15  availability_365                48895 non-null  int64  \n",
            "dtypes: float64(3), int64(7), object(6)\n",
            "memory usage: 6.0+ MB\n"
          ],
          "name": "stdout"
        }
      ]
    },
    {
      "cell_type": "code",
      "metadata": {
        "colab": {
          "base_uri": "https://localhost:8080/",
          "height": 317
        },
        "id": "cOf7J7l9B-SQ",
        "outputId": "5f3d31b4-0ab2-474d-9e4f-a3422b4e7ee7"
      },
      "source": [
        "df.describe()"
      ],
      "execution_count": null,
      "outputs": [
        {
          "output_type": "execute_result",
          "data": {
            "text/html": [
              "<div>\n",
              "<style scoped>\n",
              "    .dataframe tbody tr th:only-of-type {\n",
              "        vertical-align: middle;\n",
              "    }\n",
              "\n",
              "    .dataframe tbody tr th {\n",
              "        vertical-align: top;\n",
              "    }\n",
              "\n",
              "    .dataframe thead th {\n",
              "        text-align: right;\n",
              "    }\n",
              "</style>\n",
              "<table border=\"1\" class=\"dataframe\">\n",
              "  <thead>\n",
              "    <tr style=\"text-align: right;\">\n",
              "      <th></th>\n",
              "      <th>id</th>\n",
              "      <th>host_id</th>\n",
              "      <th>latitude</th>\n",
              "      <th>longitude</th>\n",
              "      <th>price</th>\n",
              "      <th>minimum_nights</th>\n",
              "      <th>number_of_reviews</th>\n",
              "      <th>reviews_per_month</th>\n",
              "      <th>calculated_host_listings_count</th>\n",
              "      <th>availability_365</th>\n",
              "    </tr>\n",
              "  </thead>\n",
              "  <tbody>\n",
              "    <tr>\n",
              "      <th>count</th>\n",
              "      <td>4.889500e+04</td>\n",
              "      <td>4.889500e+04</td>\n",
              "      <td>48895.000000</td>\n",
              "      <td>48895.000000</td>\n",
              "      <td>48895.000000</td>\n",
              "      <td>48895.000000</td>\n",
              "      <td>48895.000000</td>\n",
              "      <td>38843.000000</td>\n",
              "      <td>48895.000000</td>\n",
              "      <td>48895.000000</td>\n",
              "    </tr>\n",
              "    <tr>\n",
              "      <th>mean</th>\n",
              "      <td>1.901714e+07</td>\n",
              "      <td>6.762001e+07</td>\n",
              "      <td>40.728949</td>\n",
              "      <td>-73.952170</td>\n",
              "      <td>152.720687</td>\n",
              "      <td>7.029962</td>\n",
              "      <td>23.274466</td>\n",
              "      <td>1.373221</td>\n",
              "      <td>7.143982</td>\n",
              "      <td>112.781327</td>\n",
              "    </tr>\n",
              "    <tr>\n",
              "      <th>std</th>\n",
              "      <td>1.098311e+07</td>\n",
              "      <td>7.861097e+07</td>\n",
              "      <td>0.054530</td>\n",
              "      <td>0.046157</td>\n",
              "      <td>240.154170</td>\n",
              "      <td>20.510550</td>\n",
              "      <td>44.550582</td>\n",
              "      <td>1.680442</td>\n",
              "      <td>32.952519</td>\n",
              "      <td>131.622289</td>\n",
              "    </tr>\n",
              "    <tr>\n",
              "      <th>min</th>\n",
              "      <td>2.539000e+03</td>\n",
              "      <td>2.438000e+03</td>\n",
              "      <td>40.499790</td>\n",
              "      <td>-74.244420</td>\n",
              "      <td>0.000000</td>\n",
              "      <td>1.000000</td>\n",
              "      <td>0.000000</td>\n",
              "      <td>0.010000</td>\n",
              "      <td>1.000000</td>\n",
              "      <td>0.000000</td>\n",
              "    </tr>\n",
              "    <tr>\n",
              "      <th>25%</th>\n",
              "      <td>9.471945e+06</td>\n",
              "      <td>7.822033e+06</td>\n",
              "      <td>40.690100</td>\n",
              "      <td>-73.983070</td>\n",
              "      <td>69.000000</td>\n",
              "      <td>1.000000</td>\n",
              "      <td>1.000000</td>\n",
              "      <td>0.190000</td>\n",
              "      <td>1.000000</td>\n",
              "      <td>0.000000</td>\n",
              "    </tr>\n",
              "    <tr>\n",
              "      <th>50%</th>\n",
              "      <td>1.967728e+07</td>\n",
              "      <td>3.079382e+07</td>\n",
              "      <td>40.723070</td>\n",
              "      <td>-73.955680</td>\n",
              "      <td>106.000000</td>\n",
              "      <td>3.000000</td>\n",
              "      <td>5.000000</td>\n",
              "      <td>0.720000</td>\n",
              "      <td>1.000000</td>\n",
              "      <td>45.000000</td>\n",
              "    </tr>\n",
              "    <tr>\n",
              "      <th>75%</th>\n",
              "      <td>2.915218e+07</td>\n",
              "      <td>1.074344e+08</td>\n",
              "      <td>40.763115</td>\n",
              "      <td>-73.936275</td>\n",
              "      <td>175.000000</td>\n",
              "      <td>5.000000</td>\n",
              "      <td>24.000000</td>\n",
              "      <td>2.020000</td>\n",
              "      <td>2.000000</td>\n",
              "      <td>227.000000</td>\n",
              "    </tr>\n",
              "    <tr>\n",
              "      <th>max</th>\n",
              "      <td>3.648724e+07</td>\n",
              "      <td>2.743213e+08</td>\n",
              "      <td>40.913060</td>\n",
              "      <td>-73.712990</td>\n",
              "      <td>10000.000000</td>\n",
              "      <td>1250.000000</td>\n",
              "      <td>629.000000</td>\n",
              "      <td>58.500000</td>\n",
              "      <td>327.000000</td>\n",
              "      <td>365.000000</td>\n",
              "    </tr>\n",
              "  </tbody>\n",
              "</table>\n",
              "</div>"
            ],
            "text/plain": [
              "                 id  ...  availability_365\n",
              "count  4.889500e+04  ...      48895.000000\n",
              "mean   1.901714e+07  ...        112.781327\n",
              "std    1.098311e+07  ...        131.622289\n",
              "min    2.539000e+03  ...          0.000000\n",
              "25%    9.471945e+06  ...          0.000000\n",
              "50%    1.967728e+07  ...         45.000000\n",
              "75%    2.915218e+07  ...        227.000000\n",
              "max    3.648724e+07  ...        365.000000\n",
              "\n",
              "[8 rows x 10 columns]"
            ]
          },
          "metadata": {
            "tags": []
          },
          "execution_count": 7
        }
      ]
    },
    {
      "cell_type": "markdown",
      "metadata": {
        "id": "xwoWoAkCPBpw"
      },
      "source": [
        "# 1 - Data Cleaning\n"
      ]
    },
    {
      "cell_type": "markdown",
      "metadata": {
        "id": "zR-aY84WKUyb"
      },
      "source": [
        "Our data has almost 48895 rows for 16 columns. These columns are important to understand the key understandings and to get answers for our questions but also some of these columns have not impact on the insights generated by these dataset.\n",
        "\n",
        "So, we will drop these columns from the data but, We have to analyze each and every columns first so that we can findout which columns to drop."
      ]
    },
    {
      "cell_type": "code",
      "metadata": {
        "id": "utd2cr7pKIge",
        "colab": {
          "base_uri": "https://localhost:8080/"
        },
        "outputId": "814c39fd-c750-4de0-d44c-abe5b7c9d69b"
      },
      "source": [
        "df.columns"
      ],
      "execution_count": null,
      "outputs": [
        {
          "output_type": "execute_result",
          "data": {
            "text/plain": [
              "Index(['id', 'name', 'host_id', 'host_name', 'neighbourhood_group',\n",
              "       'neighbourhood', 'latitude', 'longitude', 'room_type', 'price',\n",
              "       'minimum_nights', 'number_of_reviews', 'last_review',\n",
              "       'reviews_per_month', 'calculated_host_listings_count',\n",
              "       'availability_365'],\n",
              "      dtype='object')"
            ]
          },
          "metadata": {
            "tags": []
          },
          "execution_count": 8
        }
      ]
    },
    {
      "cell_type": "markdown",
      "metadata": {
        "id": "4leJrwNXNOI9"
      },
      "source": [
        "After analyzing the dataset, We have got to know that every column is equally important for the most relevant insights from our dataset.\n",
        "\n",
        "\n"
      ]
    },
    {
      "cell_type": "code",
      "metadata": {
        "id": "NYkP9eh9_e37",
        "colab": {
          "base_uri": "https://localhost:8080/",
          "height": 411
        },
        "outputId": "5bdf54ed-494d-45fa-c493-af93ff973632"
      },
      "source": [
        "df.head()"
      ],
      "execution_count": null,
      "outputs": [
        {
          "output_type": "execute_result",
          "data": {
            "text/html": [
              "<div>\n",
              "<style scoped>\n",
              "    .dataframe tbody tr th:only-of-type {\n",
              "        vertical-align: middle;\n",
              "    }\n",
              "\n",
              "    .dataframe tbody tr th {\n",
              "        vertical-align: top;\n",
              "    }\n",
              "\n",
              "    .dataframe thead th {\n",
              "        text-align: right;\n",
              "    }\n",
              "</style>\n",
              "<table border=\"1\" class=\"dataframe\">\n",
              "  <thead>\n",
              "    <tr style=\"text-align: right;\">\n",
              "      <th></th>\n",
              "      <th>id</th>\n",
              "      <th>name</th>\n",
              "      <th>host_id</th>\n",
              "      <th>host_name</th>\n",
              "      <th>neighbourhood_group</th>\n",
              "      <th>neighbourhood</th>\n",
              "      <th>latitude</th>\n",
              "      <th>longitude</th>\n",
              "      <th>room_type</th>\n",
              "      <th>price</th>\n",
              "      <th>minimum_nights</th>\n",
              "      <th>number_of_reviews</th>\n",
              "      <th>last_review</th>\n",
              "      <th>reviews_per_month</th>\n",
              "      <th>calculated_host_listings_count</th>\n",
              "      <th>availability_365</th>\n",
              "    </tr>\n",
              "  </thead>\n",
              "  <tbody>\n",
              "    <tr>\n",
              "      <th>0</th>\n",
              "      <td>2539</td>\n",
              "      <td>Clean &amp; quiet apt home by the park</td>\n",
              "      <td>2787</td>\n",
              "      <td>John</td>\n",
              "      <td>Brooklyn</td>\n",
              "      <td>Kensington</td>\n",
              "      <td>40.64749</td>\n",
              "      <td>-73.97237</td>\n",
              "      <td>Private room</td>\n",
              "      <td>149</td>\n",
              "      <td>1</td>\n",
              "      <td>9</td>\n",
              "      <td>2018-10-19</td>\n",
              "      <td>0.21</td>\n",
              "      <td>6</td>\n",
              "      <td>365</td>\n",
              "    </tr>\n",
              "    <tr>\n",
              "      <th>1</th>\n",
              "      <td>2595</td>\n",
              "      <td>Skylit Midtown Castle</td>\n",
              "      <td>2845</td>\n",
              "      <td>Jennifer</td>\n",
              "      <td>Manhattan</td>\n",
              "      <td>Midtown</td>\n",
              "      <td>40.75362</td>\n",
              "      <td>-73.98377</td>\n",
              "      <td>Entire home/apt</td>\n",
              "      <td>225</td>\n",
              "      <td>1</td>\n",
              "      <td>45</td>\n",
              "      <td>2019-05-21</td>\n",
              "      <td>0.38</td>\n",
              "      <td>2</td>\n",
              "      <td>355</td>\n",
              "    </tr>\n",
              "    <tr>\n",
              "      <th>2</th>\n",
              "      <td>3647</td>\n",
              "      <td>THE VILLAGE OF HARLEM....NEW YORK !</td>\n",
              "      <td>4632</td>\n",
              "      <td>Elisabeth</td>\n",
              "      <td>Manhattan</td>\n",
              "      <td>Harlem</td>\n",
              "      <td>40.80902</td>\n",
              "      <td>-73.94190</td>\n",
              "      <td>Private room</td>\n",
              "      <td>150</td>\n",
              "      <td>3</td>\n",
              "      <td>0</td>\n",
              "      <td>NaN</td>\n",
              "      <td>NaN</td>\n",
              "      <td>1</td>\n",
              "      <td>365</td>\n",
              "    </tr>\n",
              "    <tr>\n",
              "      <th>3</th>\n",
              "      <td>3831</td>\n",
              "      <td>Cozy Entire Floor of Brownstone</td>\n",
              "      <td>4869</td>\n",
              "      <td>LisaRoxanne</td>\n",
              "      <td>Brooklyn</td>\n",
              "      <td>Clinton Hill</td>\n",
              "      <td>40.68514</td>\n",
              "      <td>-73.95976</td>\n",
              "      <td>Entire home/apt</td>\n",
              "      <td>89</td>\n",
              "      <td>1</td>\n",
              "      <td>270</td>\n",
              "      <td>2019-07-05</td>\n",
              "      <td>4.64</td>\n",
              "      <td>1</td>\n",
              "      <td>194</td>\n",
              "    </tr>\n",
              "    <tr>\n",
              "      <th>4</th>\n",
              "      <td>5022</td>\n",
              "      <td>Entire Apt: Spacious Studio/Loft by central park</td>\n",
              "      <td>7192</td>\n",
              "      <td>Laura</td>\n",
              "      <td>Manhattan</td>\n",
              "      <td>East Harlem</td>\n",
              "      <td>40.79851</td>\n",
              "      <td>-73.94399</td>\n",
              "      <td>Entire home/apt</td>\n",
              "      <td>80</td>\n",
              "      <td>10</td>\n",
              "      <td>9</td>\n",
              "      <td>2018-11-19</td>\n",
              "      <td>0.10</td>\n",
              "      <td>1</td>\n",
              "      <td>0</td>\n",
              "    </tr>\n",
              "  </tbody>\n",
              "</table>\n",
              "</div>"
            ],
            "text/plain": [
              "     id  ... availability_365\n",
              "0  2539  ...              365\n",
              "1  2595  ...              355\n",
              "2  3647  ...              365\n",
              "3  3831  ...              194\n",
              "4  5022  ...                0\n",
              "\n",
              "[5 rows x 16 columns]"
            ]
          },
          "metadata": {
            "tags": []
          },
          "execution_count": 9
        }
      ]
    },
    {
      "cell_type": "markdown",
      "metadata": {
        "id": "UeoOo2uWQYQl"
      },
      "source": [
        "As our dataset have almost ~49000 rows, It may possible to have some missing or wrong data in our dataset. Missing data and wrong data will definitely impact our key insights that we'll generate from our dataset. \n",
        "\n",
        "So, We'll check for the null values and wrong values in our dataset and drop them."
      ]
    },
    {
      "cell_type": "markdown",
      "metadata": {
        "id": "1AXwLmyUNm4p"
      },
      "source": [
        "## Missing values"
      ]
    },
    {
      "cell_type": "code",
      "metadata": {
        "id": "6gGuGFIIAGaj",
        "colab": {
          "base_uri": "https://localhost:8080/"
        },
        "outputId": "622f19fe-03bf-417d-cfa6-ca3844aa9b99"
      },
      "source": [
        "(df.isnull().sum() * 100) / df.shape[0]"
      ],
      "execution_count": null,
      "outputs": [
        {
          "output_type": "execute_result",
          "data": {
            "text/plain": [
              "id                                 0.000000\n",
              "name                               0.032723\n",
              "host_id                            0.000000\n",
              "host_name                          0.042949\n",
              "neighbourhood_group                0.000000\n",
              "neighbourhood                      0.000000\n",
              "latitude                           0.000000\n",
              "longitude                          0.000000\n",
              "room_type                          0.000000\n",
              "price                              0.000000\n",
              "minimum_nights                     0.000000\n",
              "number_of_reviews                  0.000000\n",
              "last_review                       20.558339\n",
              "reviews_per_month                 20.558339\n",
              "calculated_host_listings_count     0.000000\n",
              "availability_365                   0.000000\n",
              "dtype: float64"
            ]
          },
          "metadata": {
            "tags": []
          },
          "execution_count": 10
        }
      ]
    },
    {
      "cell_type": "markdown",
      "metadata": {
        "id": "QRAZlW-JRSLr"
      },
      "source": [
        "After analyzing the dataset, We got the following null rows for columns - \n",
        "\n",
        "\n",
        "1.   **0.0328%** data is missing for [name] column\n",
        "2.   **20.56%** data is missing for [last_review] column\n",
        "3.   **20.56%** data is missing for [reviews_per_month] column\n",
        "\n",
        "A small percentage of data is missing for **[name]** column but we will completely ignore that data as properties name will not much impact on the key insights of our dataset.\n",
        "\n",
        "While more than **20 percent** of data is missing for **[last_review , reviews_per_month]** column.\n",
        "\n",
        "**20.55%** is much more data so we can not drop these rows as it will impact the key analysis of our dataset.\n",
        "\n",
        "These two columns are dependent on each other because, If a property has atleast one review then that review's last date will show on the first column.\n",
        "\n",
        "To take action at these null values, We had take a deep look at these columns data. \n",
        "\n",
        "After analyzing the data, What I'm thinking about these null values is, These are the reviews rows. So some of the property might be listed new who doesn't got any review till now.\n",
        "\n",
        "So, Null value doesn't mean it is wrong data. It may be right data as these properties may also be new who doesn't have any single review now."
      ]
    },
    {
      "cell_type": "markdown",
      "metadata": {
        "id": "AL24I6std9B2"
      },
      "source": [
        "There were **two unique ID's** available in our dataframe so we will remove these ID as our dataset already have index no which again providing the unique value for the properties.\n",
        "\n",
        "We're also removing the **last_review column** as it is not that much important for finding the insights. "
      ]
    },
    {
      "cell_type": "code",
      "metadata": {
        "id": "14A5ueFX6zlC"
      },
      "source": [
        "df= df.drop(['last_review', 'host_id', 'id'],axis=1)"
      ],
      "execution_count": null,
      "outputs": []
    },
    {
      "cell_type": "code",
      "metadata": {
        "id": "E3I7Kkgq60K1"
      },
      "source": [
        "# review_per_month have null values we can replace it with 0\n",
        "df['reviews_per_month']=df['reviews_per_month'].replace(to_replace=np.nan,value=0).astype('int64')"
      ],
      "execution_count": null,
      "outputs": []
    },
    {
      "cell_type": "code",
      "metadata": {
        "id": "wrqGFPiU_guT",
        "colab": {
          "base_uri": "https://localhost:8080/"
        },
        "outputId": "d1ae567a-8339-4778-e689-ac9895ffc48d"
      },
      "source": [
        "df.dtypes"
      ],
      "execution_count": null,
      "outputs": [
        {
          "output_type": "execute_result",
          "data": {
            "text/plain": [
              "name                               object\n",
              "host_name                          object\n",
              "neighbourhood_group                object\n",
              "neighbourhood                      object\n",
              "latitude                          float64\n",
              "longitude                         float64\n",
              "room_type                          object\n",
              "price                               int64\n",
              "minimum_nights                      int64\n",
              "number_of_reviews                   int64\n",
              "reviews_per_month                   int64\n",
              "calculated_host_listings_count      int64\n",
              "availability_365                    int64\n",
              "dtype: object"
            ]
          },
          "metadata": {
            "tags": []
          },
          "execution_count": 13
        }
      ]
    },
    {
      "cell_type": "markdown",
      "metadata": {
        "id": "0qBPu-D8ODC3"
      },
      "source": [
        "## Checking Price feature For Outliers/Wrong Data"
      ]
    },
    {
      "cell_type": "markdown",
      "metadata": {
        "id": "3jVAdshKYg60"
      },
      "source": [
        "Price is the most crucial factor for our dataset. Different properties have different pricing. They may variate in pricing from location to location.\n",
        "\n",
        "But no one wanted to list there properties at **0 cost** (Atleast we're assuming this)\n",
        "\n",
        "So, We're checking the price of the property. If any property price = 0 then we assume that these entries are wrong and we will remove that rows."
      ]
    },
    {
      "cell_type": "code",
      "metadata": {
        "id": "K5LJsfICA2tr",
        "colab": {
          "base_uri": "https://localhost:8080/",
          "height": 954
        },
        "outputId": "765e912b-ff98-48cc-8bab-846c23f0a539"
      },
      "source": [
        "df[df['price'] == 0]"
      ],
      "execution_count": null,
      "outputs": [
        {
          "output_type": "execute_result",
          "data": {
            "text/html": [
              "<div>\n",
              "<style scoped>\n",
              "    .dataframe tbody tr th:only-of-type {\n",
              "        vertical-align: middle;\n",
              "    }\n",
              "\n",
              "    .dataframe tbody tr th {\n",
              "        vertical-align: top;\n",
              "    }\n",
              "\n",
              "    .dataframe thead th {\n",
              "        text-align: right;\n",
              "    }\n",
              "</style>\n",
              "<table border=\"1\" class=\"dataframe\">\n",
              "  <thead>\n",
              "    <tr style=\"text-align: right;\">\n",
              "      <th></th>\n",
              "      <th>name</th>\n",
              "      <th>host_name</th>\n",
              "      <th>neighbourhood_group</th>\n",
              "      <th>neighbourhood</th>\n",
              "      <th>latitude</th>\n",
              "      <th>longitude</th>\n",
              "      <th>room_type</th>\n",
              "      <th>price</th>\n",
              "      <th>minimum_nights</th>\n",
              "      <th>number_of_reviews</th>\n",
              "      <th>reviews_per_month</th>\n",
              "      <th>calculated_host_listings_count</th>\n",
              "      <th>availability_365</th>\n",
              "    </tr>\n",
              "  </thead>\n",
              "  <tbody>\n",
              "    <tr>\n",
              "      <th>23161</th>\n",
              "      <td>Huge Brooklyn Brownstone Living, Close to it all.</td>\n",
              "      <td>Kimberly</td>\n",
              "      <td>Brooklyn</td>\n",
              "      <td>Bedford-Stuyvesant</td>\n",
              "      <td>40.69023</td>\n",
              "      <td>-73.95428</td>\n",
              "      <td>Private room</td>\n",
              "      <td>0</td>\n",
              "      <td>4</td>\n",
              "      <td>1</td>\n",
              "      <td>0</td>\n",
              "      <td>4</td>\n",
              "      <td>28</td>\n",
              "    </tr>\n",
              "    <tr>\n",
              "      <th>25433</th>\n",
              "      <td>★Hostel Style Room | Ideal Traveling Buddies★</td>\n",
              "      <td>Anisha</td>\n",
              "      <td>Bronx</td>\n",
              "      <td>East Morrisania</td>\n",
              "      <td>40.83296</td>\n",
              "      <td>-73.88668</td>\n",
              "      <td>Private room</td>\n",
              "      <td>0</td>\n",
              "      <td>2</td>\n",
              "      <td>55</td>\n",
              "      <td>2</td>\n",
              "      <td>4</td>\n",
              "      <td>127</td>\n",
              "    </tr>\n",
              "    <tr>\n",
              "      <th>25634</th>\n",
              "      <td>MARTIAL LOFT 3: REDEMPTION (upstairs, 2nd room)</td>\n",
              "      <td>Martial Loft</td>\n",
              "      <td>Brooklyn</td>\n",
              "      <td>Bushwick</td>\n",
              "      <td>40.69467</td>\n",
              "      <td>-73.92433</td>\n",
              "      <td>Private room</td>\n",
              "      <td>0</td>\n",
              "      <td>2</td>\n",
              "      <td>16</td>\n",
              "      <td>0</td>\n",
              "      <td>5</td>\n",
              "      <td>0</td>\n",
              "    </tr>\n",
              "    <tr>\n",
              "      <th>25753</th>\n",
              "      <td>Sunny, Quiet Room in Greenpoint</td>\n",
              "      <td>Lauren</td>\n",
              "      <td>Brooklyn</td>\n",
              "      <td>Greenpoint</td>\n",
              "      <td>40.72462</td>\n",
              "      <td>-73.94072</td>\n",
              "      <td>Private room</td>\n",
              "      <td>0</td>\n",
              "      <td>2</td>\n",
              "      <td>12</td>\n",
              "      <td>0</td>\n",
              "      <td>2</td>\n",
              "      <td>0</td>\n",
              "    </tr>\n",
              "    <tr>\n",
              "      <th>25778</th>\n",
              "      <td>Modern apartment in the heart of Williamsburg</td>\n",
              "      <td>Aymeric</td>\n",
              "      <td>Brooklyn</td>\n",
              "      <td>Williamsburg</td>\n",
              "      <td>40.70838</td>\n",
              "      <td>-73.94645</td>\n",
              "      <td>Entire home/apt</td>\n",
              "      <td>0</td>\n",
              "      <td>5</td>\n",
              "      <td>3</td>\n",
              "      <td>0</td>\n",
              "      <td>1</td>\n",
              "      <td>73</td>\n",
              "    </tr>\n",
              "    <tr>\n",
              "      <th>25794</th>\n",
              "      <td>Spacious comfortable master bedroom with nice ...</td>\n",
              "      <td>Adeyemi</td>\n",
              "      <td>Brooklyn</td>\n",
              "      <td>Bedford-Stuyvesant</td>\n",
              "      <td>40.68173</td>\n",
              "      <td>-73.91342</td>\n",
              "      <td>Private room</td>\n",
              "      <td>0</td>\n",
              "      <td>1</td>\n",
              "      <td>93</td>\n",
              "      <td>4</td>\n",
              "      <td>6</td>\n",
              "      <td>176</td>\n",
              "    </tr>\n",
              "    <tr>\n",
              "      <th>25795</th>\n",
              "      <td>Contemporary bedroom in brownstone with nice view</td>\n",
              "      <td>Adeyemi</td>\n",
              "      <td>Brooklyn</td>\n",
              "      <td>Bedford-Stuyvesant</td>\n",
              "      <td>40.68279</td>\n",
              "      <td>-73.91170</td>\n",
              "      <td>Private room</td>\n",
              "      <td>0</td>\n",
              "      <td>1</td>\n",
              "      <td>95</td>\n",
              "      <td>4</td>\n",
              "      <td>6</td>\n",
              "      <td>232</td>\n",
              "    </tr>\n",
              "    <tr>\n",
              "      <th>25796</th>\n",
              "      <td>Cozy yet spacious private brownstone bedroom</td>\n",
              "      <td>Adeyemi</td>\n",
              "      <td>Brooklyn</td>\n",
              "      <td>Bedford-Stuyvesant</td>\n",
              "      <td>40.68258</td>\n",
              "      <td>-73.91284</td>\n",
              "      <td>Private room</td>\n",
              "      <td>0</td>\n",
              "      <td>1</td>\n",
              "      <td>95</td>\n",
              "      <td>4</td>\n",
              "      <td>6</td>\n",
              "      <td>222</td>\n",
              "    </tr>\n",
              "    <tr>\n",
              "      <th>26259</th>\n",
              "      <td>the best you can find</td>\n",
              "      <td>Qiuchi</td>\n",
              "      <td>Manhattan</td>\n",
              "      <td>Murray Hill</td>\n",
              "      <td>40.75091</td>\n",
              "      <td>-73.97597</td>\n",
              "      <td>Entire home/apt</td>\n",
              "      <td>0</td>\n",
              "      <td>3</td>\n",
              "      <td>0</td>\n",
              "      <td>0</td>\n",
              "      <td>1</td>\n",
              "      <td>0</td>\n",
              "    </tr>\n",
              "    <tr>\n",
              "      <th>26841</th>\n",
              "      <td>Coliving in Brooklyn! Modern design / Shared room</td>\n",
              "      <td>Sergii</td>\n",
              "      <td>Brooklyn</td>\n",
              "      <td>Bushwick</td>\n",
              "      <td>40.69211</td>\n",
              "      <td>-73.90670</td>\n",
              "      <td>Shared room</td>\n",
              "      <td>0</td>\n",
              "      <td>30</td>\n",
              "      <td>2</td>\n",
              "      <td>0</td>\n",
              "      <td>6</td>\n",
              "      <td>333</td>\n",
              "    </tr>\n",
              "    <tr>\n",
              "      <th>26866</th>\n",
              "      <td>Best Coliving space ever! Shared room.</td>\n",
              "      <td>Sergii</td>\n",
              "      <td>Brooklyn</td>\n",
              "      <td>Bushwick</td>\n",
              "      <td>40.69166</td>\n",
              "      <td>-73.90928</td>\n",
              "      <td>Shared room</td>\n",
              "      <td>0</td>\n",
              "      <td>30</td>\n",
              "      <td>5</td>\n",
              "      <td>0</td>\n",
              "      <td>6</td>\n",
              "      <td>139</td>\n",
              "    </tr>\n",
              "  </tbody>\n",
              "</table>\n",
              "</div>"
            ],
            "text/plain": [
              "                                                    name  ... availability_365\n",
              "23161  Huge Brooklyn Brownstone Living, Close to it all.  ...               28\n",
              "25433      ★Hostel Style Room | Ideal Traveling Buddies★  ...              127\n",
              "25634    MARTIAL LOFT 3: REDEMPTION (upstairs, 2nd room)  ...                0\n",
              "25753                    Sunny, Quiet Room in Greenpoint  ...                0\n",
              "25778      Modern apartment in the heart of Williamsburg  ...               73\n",
              "25794  Spacious comfortable master bedroom with nice ...  ...              176\n",
              "25795  Contemporary bedroom in brownstone with nice view  ...              232\n",
              "25796       Cozy yet spacious private brownstone bedroom  ...              222\n",
              "26259                              the best you can find  ...                0\n",
              "26841  Coliving in Brooklyn! Modern design / Shared room  ...              333\n",
              "26866             Best Coliving space ever! Shared room.  ...              139\n",
              "\n",
              "[11 rows x 13 columns]"
            ]
          },
          "metadata": {
            "tags": []
          },
          "execution_count": 14
        }
      ]
    },
    {
      "cell_type": "code",
      "metadata": {
        "id": "c4umGc-CGYBI"
      },
      "source": [
        "# Dropping the rows where price = 0\n",
        "\n",
        "temp_rows = df.index[df['price'] == 0].tolist()"
      ],
      "execution_count": null,
      "outputs": []
    },
    {
      "cell_type": "code",
      "metadata": {
        "id": "G-DfaB5vBXgj"
      },
      "source": [
        "df.drop(temp_rows, inplace=True)"
      ],
      "execution_count": null,
      "outputs": []
    },
    {
      "cell_type": "code",
      "metadata": {
        "id": "wdJZqxFkDFKT",
        "colab": {
          "base_uri": "https://localhost:8080/"
        },
        "outputId": "fb04b9af-22d3-4630-cd88-16a7f8778ab4"
      },
      "source": [
        "df.shape"
      ],
      "execution_count": null,
      "outputs": [
        {
          "output_type": "execute_result",
          "data": {
            "text/plain": [
              "(48884, 13)"
            ]
          },
          "metadata": {
            "tags": []
          },
          "execution_count": 17
        }
      ]
    },
    {
      "cell_type": "markdown",
      "metadata": {
        "id": "I55tILf1DcAP"
      },
      "source": [
        "## 1. Removing Outliers From The Dataset\n",
        "\n",
        "Checking for outliers in numerical column like price, minimum_nights, number_of_reviews"
      ]
    },
    {
      "cell_type": "code",
      "metadata": {
        "id": "e9ihGsf3Dflp",
        "colab": {
          "base_uri": "https://localhost:8080/"
        },
        "outputId": "9e9aa5d8-29cb-4872-91ab-3eed4312d05e"
      },
      "source": [
        "df[\"price\"].value_counts()"
      ],
      "execution_count": null,
      "outputs": [
        {
          "output_type": "execute_result",
          "data": {
            "text/plain": [
              "100     2051\n",
              "150     2047\n",
              "50      1534\n",
              "60      1458\n",
              "200     1401\n",
              "        ... \n",
              "2010       1\n",
              "1485       1\n",
              "822        1\n",
              "539        1\n",
              "1880       1\n",
              "Name: price, Length: 673, dtype: int64"
            ]
          },
          "metadata": {
            "tags": []
          },
          "execution_count": 19
        }
      ]
    },
    {
      "cell_type": "code",
      "metadata": {
        "id": "Ivjy75RADqip",
        "colab": {
          "base_uri": "https://localhost:8080/",
          "height": 322
        },
        "outputId": "2f2b4627-e119-46cd-b551-ba0769b3b90c"
      },
      "source": [
        "plt.figure(figsize=(10,5))\n",
        "vio_plt=sns.boxplot(data=df, y='price')\n",
        "vio_plt.set_title('Price distribution')\n",
        "plt.show()"
      ],
      "execution_count": null,
      "outputs": [
        {
          "output_type": "display_data",
          "data": {
            "image/png": "[encoded data removed]",
            "text/plain": [
              "<Figure size 720x360 with 1 Axes>"
            ]
          },
          "metadata": {
            "tags": [],
            "needs_background": "light"
          }
        }
      ]
    },
    {
      "cell_type": "markdown",
      "metadata": {
        "id": "9oUDtGQcD8Pg"
      },
      "source": [
        "There is outliers in price, we have to remove this so we will use Interquartile range (middle 50% =Q3-Q1) method to do the operation."
      ]
    },
    {
      "cell_type": "code",
      "metadata": {
        "id": "QT_7e6ItDqrW"
      },
      "source": [
        "def outlier_removal(data_col):\n",
        " data_col = sorted(data_col)\n",
        " Q1,Q3 = np.percentile(data_col, [25,75])\n",
        " IQR = Q3 - Q1\n",
        " lower_range = Q1 - (1.5 * IQR)\n",
        " upper_range = Q3 + (1.5 * IQR)\n",
        " \n",
        " return lower_range,upper_range"
      ],
      "execution_count": null,
      "outputs": []
    },
    {
      "cell_type": "code",
      "metadata": {
        "id": "R6zyt7InHb9q"
      },
      "source": [
        "lower_bound,upper_bound = outlier_removal(df['price'])"
      ],
      "execution_count": null,
      "outputs": []
    },
    {
      "cell_type": "code",
      "metadata": {
        "id": "6hiEQabwH7lx"
      },
      "source": [
        "df1 = df[(df.price>lower_bound) & (df.price<upper_bound)]"
      ],
      "execution_count": null,
      "outputs": []
    },
    {
      "cell_type": "code",
      "metadata": {
        "id": "JHt-0GwvHwEX",
        "colab": {
          "base_uri": "https://localhost:8080/",
          "height": 322
        },
        "outputId": "eff9d5b8-5b39-4856-8002-0214b3b7c130"
      },
      "source": [
        "plt.figure(figsize=(10,5))\n",
        "vio_plt=sns.boxplot(data=df1, y='price')\n",
        "vio_plt.set_title('Price distribution')\n",
        "plt.show()"
      ],
      "execution_count": null,
      "outputs": [
        {
          "output_type": "display_data",
          "data": {
            "image/png": "[encoded data removed]",
            "text/plain": [
              "<Figure size 720x360 with 1 Axes>"
            ]
          },
          "metadata": {
            "tags": [],
            "needs_background": "light"
          }
        }
      ]
    },
    {
      "cell_type": "markdown",
      "metadata": {
        "id": "vffkgika8V9o"
      },
      "source": [
        "We're now checking the outliers in the ***minimum_nights*** column"
      ]
    },
    {
      "cell_type": "code",
      "metadata": {
        "colab": {
          "base_uri": "https://localhost:8080/",
          "height": 378
        },
        "id": "ScgutwQEQR54",
        "outputId": "77d71618-8ab8-4fc7-bb9c-2bcd7205a9f8"
      },
      "source": [
        "plt.figure(figsize = (12,6))\n",
        "sns.boxplot(y = 'minimum_nights', data = df1)"
      ],
      "execution_count": null,
      "outputs": [
        {
          "output_type": "execute_result",
          "data": {
            "text/plain": [
              "<matplotlib.axes._subplots.AxesSubplot at 0x7f387008b350>"
            ]
          },
          "metadata": {
            "tags": []
          },
          "execution_count": 25
        },
        {
          "output_type": "display_data",
          "data": {
            "image/png": "[encoded data removed]",
            "text/plain": [
              "<Figure size 864x432 with 1 Axes>"
            ]
          },
          "metadata": {
            "tags": [],
            "needs_background": "light"
          }
        }
      ]
    },
    {
      "cell_type": "markdown",
      "metadata": {
        "id": "8TmeYtfMQvNA"
      },
      "source": [
        "There are some properties who offer minimum of more than 1000 Nights. It may be right according to host but these properties can effect the overall accuracy of our dataset so we will remove these properties."
      ]
    },
    {
      "cell_type": "code",
      "metadata": {
        "id": "24z5Qz_wRcBE"
      },
      "source": [
        "df1 = df1[df1['minimum_nights'] < 999]"
      ],
      "execution_count": null,
      "outputs": []
    },
    {
      "cell_type": "code",
      "metadata": {
        "id": "9jPJ8UpVIFBh",
        "colab": {
          "base_uri": "https://localhost:8080/"
        },
        "outputId": "c3752aea-1851-449d-fcb8-e650ec3d8ffb"
      },
      "source": [
        "df1.info()"
      ],
      "execution_count": null,
      "outputs": [
        {
          "output_type": "stream",
          "text": [
            "<class 'pandas.core.frame.DataFrame'>\n",
            "Int64Index: 45903 entries, 0 to 48894\n",
            "Data columns (total 13 columns):\n",
            " #   Column                          Non-Null Count  Dtype  \n",
            "---  ------                          --------------  -----  \n",
            " 0   name                            45903 non-null  object \n",
            " 1   host_name                       45903 non-null  object \n",
            " 2   neighbourhood_group             45903 non-null  object \n",
            " 3   neighbourhood                   45903 non-null  object \n",
            " 4   latitude                        45903 non-null  float64\n",
            " 5   longitude                       45903 non-null  float64\n",
            " 6   room_type                       45903 non-null  object \n",
            " 7   price                           45903 non-null  int64  \n",
            " 8   minimum_nights                  45903 non-null  int64  \n",
            " 9   number_of_reviews               45903 non-null  int64  \n",
            " 10  reviews_per_month               45903 non-null  int64  \n",
            " 11  calculated_host_listings_count  45903 non-null  int64  \n",
            " 12  availability_365                45903 non-null  int64  \n",
            "dtypes: float64(2), int64(6), object(5)\n",
            "memory usage: 4.9+ MB\n"
          ],
          "name": "stdout"
        }
      ]
    },
    {
      "cell_type": "markdown",
      "metadata": {
        "id": "X8QlZNYnbjkj"
      },
      "source": [
        "Data cleaning is completed now, We have left 45903 rows and 13 columns which are enough to get insights from our dataset.\n",
        "\n",
        "Now, we'll explore our dataset to get the some wonderful key understandings.\n",
        "\n"
      ]
    },
    {
      "cell_type": "markdown",
      "metadata": {
        "id": "p881VzQsb_-7"
      },
      "source": [
        "# 2 - (Exploratory Data Analysis) EDA Start...\n"
      ]
    },
    {
      "cell_type": "code",
      "metadata": {
        "id": "tFEXF-6zEHZg",
        "colab": {
          "base_uri": "https://localhost:8080/",
          "height": 646
        },
        "outputId": "5e25290a-8dec-427c-80fe-efdb15ed199b"
      },
      "source": [
        "#correlation matrix (to check relation between features)\n",
        "corrmat = df.corr()\n",
        "f, ax = plt.subplots(figsize=(10, 8))\n",
        "sns.heatmap(corrmat, vmax=.8, square=True, annot=True, linewidth = 0.2)"
      ],
      "execution_count": null,
      "outputs": [
        {
          "output_type": "execute_result",
          "data": {
            "text/plain": [
              "<matplotlib.axes._subplots.AxesSubplot at 0x7f38705830d0>"
            ]
          },
          "metadata": {
            "tags": []
          },
          "execution_count": 28
        },
        {
          "output_type": "display_data",
          "data": {
            "image/png": "[encoded data removed]",
            "text/plain": [
              "<Figure size 720x576 with 2 Axes>"
            ]
          },
          "metadata": {
            "tags": [],
            "needs_background": "light"
          }
        }
      ]
    },
    {
      "cell_type": "markdown",
      "metadata": {
        "id": "oFIcmWmOGHo4"
      },
      "source": [
        "We're getting some positive as well as negative corelation between various features.\n",
        "\n",
        "\n"
      ]
    },
    {
      "cell_type": "markdown",
      "metadata": {
        "id": "Ina4S0i_QCSN"
      },
      "source": [
        "## Which Host has highest no. of Properties"
      ]
    },
    {
      "cell_type": "code",
      "metadata": {
        "id": "LEn_ZzobQXEz",
        "colab": {
          "base_uri": "https://localhost:8080/"
        },
        "outputId": "870dbba5-a12f-4902-c854-230adb492510"
      },
      "source": [
        "#Top 10 hosts with most no of properties in entire NYC\n",
        "\n",
        "top_10_hosts=df['host_name'].value_counts()[:10] \n",
        "top_10_hosts"
      ],
      "execution_count": null,
      "outputs": [
        {
          "output_type": "execute_result",
          "data": {
            "text/plain": [
              "Michael         417\n",
              "David           403\n",
              "Sonder (NYC)    327\n",
              "John            294\n",
              "Alex            279\n",
              "Blueground      232\n",
              "Sarah           227\n",
              "Daniel          226\n",
              "Jessica         205\n",
              "Maria           204\n",
              "Name: host_name, dtype: int64"
            ]
          },
          "metadata": {
            "tags": []
          },
          "execution_count": 88
        }
      ]
    },
    {
      "cell_type": "code",
      "metadata": {
        "id": "dIsIbUusRb3d",
        "colab": {
          "base_uri": "https://localhost:8080/",
          "height": 531
        },
        "outputId": "a7da2ef7-6a09-452c-9585-0b192b443f03"
      },
      "source": [
        "top_10_hosts.plot(kind='bar',color='red', figsize = (13,7))\n",
        "plt.xlabel('Top Host of the NYC')\n",
        "plt.ylabel('Total NYC Listings')\n",
        "plt.title('Top 10 Hosts on the basis of Total Listings in Entire NYC!')"
      ],
      "execution_count": null,
      "outputs": [
        {
          "output_type": "execute_result",
          "data": {
            "text/plain": [
              "Text(0.5, 1.0, 'Top 10 Hosts on the basis of Total Listings in Entire NYC!')"
            ]
          },
          "metadata": {
            "tags": []
          },
          "execution_count": 89
        },
        {
          "output_type": "display_data",
          "data": {
            "image/png": "[encoded data removed]",
            "text/plain": [
              "<Figure size 936x504 with 1 Axes>"
            ]
          },
          "metadata": {
            "tags": [],
            "needs_background": "light"
          }
        }
      ]
    },
    {
      "cell_type": "markdown",
      "metadata": {
        "id": "D0t7J8BQxiqq"
      },
      "source": [
        "Here Michael is the top host with 417 properties now, We will explore some more data about Michael."
      ]
    }
  ]
}