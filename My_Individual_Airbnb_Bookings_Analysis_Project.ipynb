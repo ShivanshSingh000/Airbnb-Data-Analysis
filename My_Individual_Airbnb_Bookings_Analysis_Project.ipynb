{
  "nbformat": 4,
  "nbformat_minor": 0,
  "metadata": {
    "colab": {
      "name": "My Individual Airbnb Bookings Analysis - Project",
      "provenance": [],
      "collapsed_sections": []
    },
    "kernelspec": {
      "display_name": "Python 3",
      "language": "python",
      "name": "python3"
    },
    "language_info": {
      "codemirror_mode": {
        "name": "ipython",
        "version": 3
      },
      "file_extension": ".py",
      "mimetype": "text/x-python",
      "name": "python",
      "nbconvert_exporter": "python",
      "pygments_lexer": "ipython3",
      "version": "3.6.6"
    }
  },
  "cells": [
    {
      "cell_type": "markdown",
      "metadata": {
        "id": "Y06xIdG26kRF"
      },
      "source": [
        "\n",
        "##<b> Since 2008, guests and hosts have used Airbnb to expand on traveling possibilities and present a more unique, personalized way of experiencing the world. Today, Airbnb became one of a kind service that is used and recognized by the whole world. Data analysis on millions of listings provided through Airbnb is a crucial factor for the company. These millions of listings generate a lot of data - data that can be analyzed and used for security, business decisions, understanding of customers' and providers' (hosts) behavior and performance on the platform, guiding marketing initiatives, implementation of innovative additional services and much more. </b>\n",
        "\n",
        "## <b>This dataset has around 49,000 observations in it with 16 columns and it is a mix between categorical and numeric values. </b>\n",
        "\n",
        "## <b> Explore and analyze the data to discover key understandings (not limited to these) such as : \n",
        "* What can we learn about different hosts and areas?\n",
        "* What can we learn from predictions? (ex: locations, prices, reviews, etc)\n",
        "* Which property type is the busiest and why?\n",
        "* Is there any noticeable difference of traffic among different areas and what could be the reason for it? </b>"
      ]
    },
    {
      "cell_type": "markdown",
      "metadata": {
        "id": "GlXy2dJ-4AfK"
      },
      "source": [
        "We have analyze the given dataset well and We will not only findout the answers of the above questions but we will also find the answer of these questions -\n",
        "\n",
        "*      Which type of room has the highest and lowest reviews and why?\n",
        "*      Is there any other crucial factor for hosts than pricing? \n",
        "\n",
        "To get the answers of these questions, We're going to findout their most relevant answers.\n"
      ]
    },
    {
      "cell_type": "markdown",
      "metadata": {
        "id": "uJ1rwB2-JT_7"
      },
      "source": [
        "Now we're going to explore it to understand the key understandings of the Dataset"
      ]
    },
    {
      "cell_type": "code",
      "metadata": {
        "id": "dByMsuzT8Tnw"
      },
      "source": [
        "import numpy as np\n",
        "import pandas as pd\n",
        "import matplotlib.pyplot as plt\n",
        "import seaborn as sns\n",
        "from google.colab import drive\n",
        "%matplotlib inline"
      ],
      "execution_count": 1,
      "outputs": []
    },
    {
      "cell_type": "code",
      "metadata": {
        "colab": {
          "base_uri": "https://localhost:8080/"
        },
        "id": "dnKsRdxP778t",
        "outputId": "9f49768e-1526-459e-c4f3-166be1f4cbbb"
      },
      "source": [
        "from google.colab import drive\n",
        "drive.mount('/content/drive')"
      ],
      "execution_count": 2,
      "outputs": [
        {
          "output_type": "stream",
          "text": [
            "Mounted at /content/drive\n"
          ],
          "name": "stdout"
        }
      ]
    },
    {
      "cell_type": "code",
      "metadata": {
        "id": "wqOPeLyl-N-N"
      },
      "source": [
        "df = pd.read_csv('/content/drive/MyDrive/Airbnb NYC 2019.csv')"
      ],
      "execution_count": 3,
      "outputs": []
    },
    {
      "cell_type": "code",
      "metadata": {
        "colab": {
          "base_uri": "https://localhost:8080/",
          "height": 411
        },
        "id": "vTfeiXQf-bEE",
        "outputId": "aacd7d5b-13a5-4dc1-b3d7-38d170f7dc06"
      },
      "source": [
        "df.head()"
      ],
      "execution_count": 4,
      "outputs": [
        {
          "output_type": "execute_result",
          "data": {
            "text/html": [
              "<div>\n",
              "<style scoped>\n",
              "    .dataframe tbody tr th:only-of-type {\n",
              "        vertical-align: middle;\n",
              "    }\n",
              "\n",
              "    .dataframe tbody tr th {\n",
              "        vertical-align: top;\n",
              "    }\n",
              "\n",
              "    .dataframe thead th {\n",
              "        text-align: right;\n",
              "    }\n",
              "</style>\n",
              "<table border=\"1\" class=\"dataframe\">\n",
              "  <thead>\n",
              "    <tr style=\"text-align: right;\">\n",
              "      <th></th>\n",
              "      <th>id</th>\n",
              "      <th>name</th>\n",
              "      <th>host_id</th>\n",
              "      <th>host_name</th>\n",
              "      <th>neighbourhood_group</th>\n",
              "      <th>neighbourhood</th>\n",
              "      <th>latitude</th>\n",
              "      <th>longitude</th>\n",
              "      <th>room_type</th>\n",
              "      <th>price</th>\n",
              "      <th>minimum_nights</th>\n",
              "      <th>number_of_reviews</th>\n",
              "      <th>last_review</th>\n",
              "      <th>reviews_per_month</th>\n",
              "      <th>calculated_host_listings_count</th>\n",
              "      <th>availability_365</th>\n",
              "    </tr>\n",
              "  </thead>\n",
              "  <tbody>\n",
              "    <tr>\n",
              "      <th>0</th>\n",
              "      <td>2539</td>\n",
              "      <td>Clean &amp; quiet apt home by the park</td>\n",
              "      <td>2787</td>\n",
              "      <td>John</td>\n",
              "      <td>Brooklyn</td>\n",
              "      <td>Kensington</td>\n",
              "      <td>40.64749</td>\n",
              "      <td>-73.97237</td>\n",
              "      <td>Private room</td>\n",
              "      <td>149</td>\n",
              "      <td>1</td>\n",
              "      <td>9</td>\n",
              "      <td>2018-10-19</td>\n",
              "      <td>0.21</td>\n",
              "      <td>6</td>\n",
              "      <td>365</td>\n",
              "    </tr>\n",
              "    <tr>\n",
              "      <th>1</th>\n",
              "      <td>2595</td>\n",
              "      <td>Skylit Midtown Castle</td>\n",
              "      <td>2845</td>\n",
              "      <td>Jennifer</td>\n",
              "      <td>Manhattan</td>\n",
              "      <td>Midtown</td>\n",
              "      <td>40.75362</td>\n",
              "      <td>-73.98377</td>\n",
              "      <td>Entire home/apt</td>\n",
              "      <td>225</td>\n",
              "      <td>1</td>\n",
              "      <td>45</td>\n",
              "      <td>2019-05-21</td>\n",
              "      <td>0.38</td>\n",
              "      <td>2</td>\n",
              "      <td>355</td>\n",
              "    </tr>\n",
              "    <tr>\n",
              "      <th>2</th>\n",
              "      <td>3647</td>\n",
              "      <td>THE VILLAGE OF HARLEM....NEW YORK !</td>\n",
              "      <td>4632</td>\n",
              "      <td>Elisabeth</td>\n",
              "      <td>Manhattan</td>\n",
              "      <td>Harlem</td>\n",
              "      <td>40.80902</td>\n",
              "      <td>-73.94190</td>\n",
              "      <td>Private room</td>\n",
              "      <td>150</td>\n",
              "      <td>3</td>\n",
              "      <td>0</td>\n",
              "      <td>NaN</td>\n",
              "      <td>NaN</td>\n",
              "      <td>1</td>\n",
              "      <td>365</td>\n",
              "    </tr>\n",
              "    <tr>\n",
              "      <th>3</th>\n",
              "      <td>3831</td>\n",
              "      <td>Cozy Entire Floor of Brownstone</td>\n",
              "      <td>4869</td>\n",
              "      <td>LisaRoxanne</td>\n",
              "      <td>Brooklyn</td>\n",
              "      <td>Clinton Hill</td>\n",
              "      <td>40.68514</td>\n",
              "      <td>-73.95976</td>\n",
              "      <td>Entire home/apt</td>\n",
              "      <td>89</td>\n",
              "      <td>1</td>\n",
              "      <td>270</td>\n",
              "      <td>2019-07-05</td>\n",
              "      <td>4.64</td>\n",
              "      <td>1</td>\n",
              "      <td>194</td>\n",
              "    </tr>\n",
              "    <tr>\n",
              "      <th>4</th>\n",
              "      <td>5022</td>\n",
              "      <td>Entire Apt: Spacious Studio/Loft by central park</td>\n",
              "      <td>7192</td>\n",
              "      <td>Laura</td>\n",
              "      <td>Manhattan</td>\n",
              "      <td>East Harlem</td>\n",
              "      <td>40.79851</td>\n",
              "      <td>-73.94399</td>\n",
              "      <td>Entire home/apt</td>\n",
              "      <td>80</td>\n",
              "      <td>10</td>\n",
              "      <td>9</td>\n",
              "      <td>2018-11-19</td>\n",
              "      <td>0.10</td>\n",
              "      <td>1</td>\n",
              "      <td>0</td>\n",
              "    </tr>\n",
              "  </tbody>\n",
              "</table>\n",
              "</div>"
            ],
            "text/plain": [
              "     id  ... availability_365\n",
              "0  2539  ...              365\n",
              "1  2595  ...              355\n",
              "2  3647  ...              365\n",
              "3  3831  ...              194\n",
              "4  5022  ...                0\n",
              "\n",
              "[5 rows x 16 columns]"
            ]
          },
          "metadata": {
            "tags": []
          },
          "execution_count": 4
        }
      ]
    },
    {
      "cell_type": "code",
      "metadata": {
        "colab": {
          "base_uri": "https://localhost:8080/"
        },
        "id": "q4vI4RMaJ7vZ",
        "outputId": "fe2c76ad-e177-4f1a-c2cb-7602a93d353b"
      },
      "source": [
        "df.shape"
      ],
      "execution_count": 5,
      "outputs": [
        {
          "output_type": "execute_result",
          "data": {
            "text/plain": [
              "(48895, 16)"
            ]
          },
          "metadata": {
            "tags": []
          },
          "execution_count": 5
        }
      ]
    },
    {
      "cell_type": "code",
      "metadata": {
        "colab": {
          "base_uri": "https://localhost:8080/"
        },
        "id": "2IZR5bt6B2pV",
        "outputId": "d0d48715-d191-42b0-c163-a6e6b07c01d4"
      },
      "source": [
        "df.info()"
      ],
      "execution_count": 6,
      "outputs": [
        {
          "output_type": "stream",
          "text": [
            "<class 'pandas.core.frame.DataFrame'>\n",
            "RangeIndex: 48895 entries, 0 to 48894\n",
            "Data columns (total 16 columns):\n",
            " #   Column                          Non-Null Count  Dtype  \n",
            "---  ------                          --------------  -----  \n",
            " 0   id                              48895 non-null  int64  \n",
            " 1   name                            48879 non-null  object \n",
            " 2   host_id                         48895 non-null  int64  \n",
            " 3   host_name                       48874 non-null  object \n",
            " 4   neighbourhood_group             48895 non-null  object \n",
            " 5   neighbourhood                   48895 non-null  object \n",
            " 6   latitude                        48895 non-null  float64\n",
            " 7   longitude                       48895 non-null  float64\n",
            " 8   room_type                       48895 non-null  object \n",
            " 9   price                           48895 non-null  int64  \n",
            " 10  minimum_nights                  48895 non-null  int64  \n",
            " 11  number_of_reviews               48895 non-null  int64  \n",
            " 12  last_review                     38843 non-null  object \n",
            " 13  reviews_per_month               38843 non-null  float64\n",
            " 14  calculated_host_listings_count  48895 non-null  int64  \n",
            " 15  availability_365                48895 non-null  int64  \n",
            "dtypes: float64(3), int64(7), object(6)\n",
            "memory usage: 6.0+ MB\n"
          ],
          "name": "stdout"
        }
      ]
    },
    {
      "cell_type": "code",
      "metadata": {
        "colab": {
          "base_uri": "https://localhost:8080/",
          "height": 317
        },
        "id": "cOf7J7l9B-SQ",
        "outputId": "40ab5371-c90c-4fa9-b990-d27a2137a00a"
      },
      "source": [
        "df.describe()"
      ],
      "execution_count": 7,
      "outputs": [
        {
          "output_type": "execute_result",
          "data": {
            "text/html": [
              "<div>\n",
              "<style scoped>\n",
              "    .dataframe tbody tr th:only-of-type {\n",
              "        vertical-align: middle;\n",
              "    }\n",
              "\n",
              "    .dataframe tbody tr th {\n",
              "        vertical-align: top;\n",
              "    }\n",
              "\n",
              "    .dataframe thead th {\n",
              "        text-align: right;\n",
              "    }\n",
              "</style>\n",
              "<table border=\"1\" class=\"dataframe\">\n",
              "  <thead>\n",
              "    <tr style=\"text-align: right;\">\n",
              "      <th></th>\n",
              "      <th>id</th>\n",
              "      <th>host_id</th>\n",
              "      <th>latitude</th>\n",
              "      <th>longitude</th>\n",
              "      <th>price</th>\n",
              "      <th>minimum_nights</th>\n",
              "      <th>number_of_reviews</th>\n",
              "      <th>reviews_per_month</th>\n",
              "      <th>calculated_host_listings_count</th>\n",
              "      <th>availability_365</th>\n",
              "    </tr>\n",
              "  </thead>\n",
              "  <tbody>\n",
              "    <tr>\n",
              "      <th>count</th>\n",
              "      <td>4.889500e+04</td>\n",
              "      <td>4.889500e+04</td>\n",
              "      <td>48895.000000</td>\n",
              "      <td>48895.000000</td>\n",
              "      <td>48895.000000</td>\n",
              "      <td>48895.000000</td>\n",
              "      <td>48895.000000</td>\n",
              "      <td>38843.000000</td>\n",
              "      <td>48895.000000</td>\n",
              "      <td>48895.000000</td>\n",
              "    </tr>\n",
              "    <tr>\n",
              "      <th>mean</th>\n",
              "      <td>1.901714e+07</td>\n",
              "      <td>6.762001e+07</td>\n",
              "      <td>40.728949</td>\n",
              "      <td>-73.952170</td>\n",
              "      <td>152.720687</td>\n",
              "      <td>7.029962</td>\n",
              "      <td>23.274466</td>\n",
              "      <td>1.373221</td>\n",
              "      <td>7.143982</td>\n",
              "      <td>112.781327</td>\n",
              "    </tr>\n",
              "    <tr>\n",
              "      <th>std</th>\n",
              "      <td>1.098311e+07</td>\n",
              "      <td>7.861097e+07</td>\n",
              "      <td>0.054530</td>\n",
              "      <td>0.046157</td>\n",
              "      <td>240.154170</td>\n",
              "      <td>20.510550</td>\n",
              "      <td>44.550582</td>\n",
              "      <td>1.680442</td>\n",
              "      <td>32.952519</td>\n",
              "      <td>131.622289</td>\n",
              "    </tr>\n",
              "    <tr>\n",
              "      <th>min</th>\n",
              "      <td>2.539000e+03</td>\n",
              "      <td>2.438000e+03</td>\n",
              "      <td>40.499790</td>\n",
              "      <td>-74.244420</td>\n",
              "      <td>0.000000</td>\n",
              "      <td>1.000000</td>\n",
              "      <td>0.000000</td>\n",
              "      <td>0.010000</td>\n",
              "      <td>1.000000</td>\n",
              "      <td>0.000000</td>\n",
              "    </tr>\n",
              "    <tr>\n",
              "      <th>25%</th>\n",
              "      <td>9.471945e+06</td>\n",
              "      <td>7.822033e+06</td>\n",
              "      <td>40.690100</td>\n",
              "      <td>-73.983070</td>\n",
              "      <td>69.000000</td>\n",
              "      <td>1.000000</td>\n",
              "      <td>1.000000</td>\n",
              "      <td>0.190000</td>\n",
              "      <td>1.000000</td>\n",
              "      <td>0.000000</td>\n",
              "    </tr>\n",
              "    <tr>\n",
              "      <th>50%</th>\n",
              "      <td>1.967728e+07</td>\n",
              "      <td>3.079382e+07</td>\n",
              "      <td>40.723070</td>\n",
              "      <td>-73.955680</td>\n",
              "      <td>106.000000</td>\n",
              "      <td>3.000000</td>\n",
              "      <td>5.000000</td>\n",
              "      <td>0.720000</td>\n",
              "      <td>1.000000</td>\n",
              "      <td>45.000000</td>\n",
              "    </tr>\n",
              "    <tr>\n",
              "      <th>75%</th>\n",
              "      <td>2.915218e+07</td>\n",
              "      <td>1.074344e+08</td>\n",
              "      <td>40.763115</td>\n",
              "      <td>-73.936275</td>\n",
              "      <td>175.000000</td>\n",
              "      <td>5.000000</td>\n",
              "      <td>24.000000</td>\n",
              "      <td>2.020000</td>\n",
              "      <td>2.000000</td>\n",
              "      <td>227.000000</td>\n",
              "    </tr>\n",
              "    <tr>\n",
              "      <th>max</th>\n",
              "      <td>3.648724e+07</td>\n",
              "      <td>2.743213e+08</td>\n",
              "      <td>40.913060</td>\n",
              "      <td>-73.712990</td>\n",
              "      <td>10000.000000</td>\n",
              "      <td>1250.000000</td>\n",
              "      <td>629.000000</td>\n",
              "      <td>58.500000</td>\n",
              "      <td>327.000000</td>\n",
              "      <td>365.000000</td>\n",
              "    </tr>\n",
              "  </tbody>\n",
              "</table>\n",
              "</div>"
            ],
            "text/plain": [
              "                 id  ...  availability_365\n",
              "count  4.889500e+04  ...      48895.000000\n",
              "mean   1.901714e+07  ...        112.781327\n",
              "std    1.098311e+07  ...        131.622289\n",
              "min    2.539000e+03  ...          0.000000\n",
              "25%    9.471945e+06  ...          0.000000\n",
              "50%    1.967728e+07  ...         45.000000\n",
              "75%    2.915218e+07  ...        227.000000\n",
              "max    3.648724e+07  ...        365.000000\n",
              "\n",
              "[8 rows x 10 columns]"
            ]
          },
          "metadata": {
            "tags": []
          },
          "execution_count": 7
        }
      ]
    },
    {
      "cell_type": "markdown",
      "metadata": {
        "id": "xwoWoAkCPBpw"
      },
      "source": [
        "# 1 - Data Cleaning\n"
      ]
    },
    {
      "cell_type": "markdown",
      "metadata": {
        "id": "zR-aY84WKUyb"
      },
      "source": [
        "Our data has almost 48895 rows for 16 columns. These columns are important to understand the key understandings and to get answers for our questions but also some of these columns have not impact on the insights generated by these dataset.\n",
        "\n",
        "So, we will drop these columns from the data but, We have to analyze each and every columns first so that we can findout which columns to drop."
      ]
    },
    {
      "cell_type": "code",
      "metadata": {
        "id": "utd2cr7pKIge",
        "colab": {
          "base_uri": "https://localhost:8080/"
        },
        "outputId": "23fb2a89-28f7-4a43-e871-079d0b4a344b"
      },
      "source": [
        "df.columns"
      ],
      "execution_count": 8,
      "outputs": [
        {
          "output_type": "execute_result",
          "data": {
            "text/plain": [
              "Index(['id', 'name', 'host_id', 'host_name', 'neighbourhood_group',\n",
              "       'neighbourhood', 'latitude', 'longitude', 'room_type', 'price',\n",
              "       'minimum_nights', 'number_of_reviews', 'last_review',\n",
              "       'reviews_per_month', 'calculated_host_listings_count',\n",
              "       'availability_365'],\n",
              "      dtype='object')"
            ]
          },
          "metadata": {
            "tags": []
          },
          "execution_count": 8
        }
      ]
    },
    {
      "cell_type": "markdown",
      "metadata": {
        "id": "4leJrwNXNOI9"
      },
      "source": [
        "After analyzing the dataset, We have got to know that every column is equally important for the most relevant insights from our dataset.\n",
        "\n",
        "\n"
      ]
    },
    {
      "cell_type": "code",
      "metadata": {
        "id": "NYkP9eh9_e37",
        "colab": {
          "base_uri": "https://localhost:8080/",
          "height": 411
        },
        "outputId": "cc6c7bcb-c24c-4680-d64b-f925b3ff56f9"
      },
      "source": [
        "df.head()"
      ],
      "execution_count": 9,
      "outputs": [
        {
          "output_type": "execute_result",
          "data": {
            "text/html": [
              "<div>\n",
              "<style scoped>\n",
              "    .dataframe tbody tr th:only-of-type {\n",
              "        vertical-align: middle;\n",
              "    }\n",
              "\n",
              "    .dataframe tbody tr th {\n",
              "        vertical-align: top;\n",
              "    }\n",
              "\n",
              "    .dataframe thead th {\n",
              "        text-align: right;\n",
              "    }\n",
              "</style>\n",
              "<table border=\"1\" class=\"dataframe\">\n",
              "  <thead>\n",
              "    <tr style=\"text-align: right;\">\n",
              "      <th></th>\n",
              "      <th>id</th>\n",
              "      <th>name</th>\n",
              "      <th>host_id</th>\n",
              "      <th>host_name</th>\n",
              "      <th>neighbourhood_group</th>\n",
              "      <th>neighbourhood</th>\n",
              "      <th>latitude</th>\n",
              "      <th>longitude</th>\n",
              "      <th>room_type</th>\n",
              "      <th>price</th>\n",
              "      <th>minimum_nights</th>\n",
              "      <th>number_of_reviews</th>\n",
              "      <th>last_review</th>\n",
              "      <th>reviews_per_month</th>\n",
              "      <th>calculated_host_listings_count</th>\n",
              "      <th>availability_365</th>\n",
              "    </tr>\n",
              "  </thead>\n",
              "  <tbody>\n",
              "    <tr>\n",
              "      <th>0</th>\n",
              "      <td>2539</td>\n",
              "      <td>Clean &amp; quiet apt home by the park</td>\n",
              "      <td>2787</td>\n",
              "      <td>John</td>\n",
              "      <td>Brooklyn</td>\n",
              "      <td>Kensington</td>\n",
              "      <td>40.64749</td>\n",
              "      <td>-73.97237</td>\n",
              "      <td>Private room</td>\n",
              "      <td>149</td>\n",
              "      <td>1</td>\n",
              "      <td>9</td>\n",
              "      <td>2018-10-19</td>\n",
              "      <td>0.21</td>\n",
              "      <td>6</td>\n",
              "      <td>365</td>\n",
              "    </tr>\n",
              "    <tr>\n",
              "      <th>1</th>\n",
              "      <td>2595</td>\n",
              "      <td>Skylit Midtown Castle</td>\n",
              "      <td>2845</td>\n",
              "      <td>Jennifer</td>\n",
              "      <td>Manhattan</td>\n",
              "      <td>Midtown</td>\n",
              "      <td>40.75362</td>\n",
              "      <td>-73.98377</td>\n",
              "      <td>Entire home/apt</td>\n",
              "      <td>225</td>\n",
              "      <td>1</td>\n",
              "      <td>45</td>\n",
              "      <td>2019-05-21</td>\n",
              "      <td>0.38</td>\n",
              "      <td>2</td>\n",
              "      <td>355</td>\n",
              "    </tr>\n",
              "    <tr>\n",
              "      <th>2</th>\n",
              "      <td>3647</td>\n",
              "      <td>THE VILLAGE OF HARLEM....NEW YORK !</td>\n",
              "      <td>4632</td>\n",
              "      <td>Elisabeth</td>\n",
              "      <td>Manhattan</td>\n",
              "      <td>Harlem</td>\n",
              "      <td>40.80902</td>\n",
              "      <td>-73.94190</td>\n",
              "      <td>Private room</td>\n",
              "      <td>150</td>\n",
              "      <td>3</td>\n",
              "      <td>0</td>\n",
              "      <td>NaN</td>\n",
              "      <td>NaN</td>\n",
              "      <td>1</td>\n",
              "      <td>365</td>\n",
              "    </tr>\n",
              "    <tr>\n",
              "      <th>3</th>\n",
              "      <td>3831</td>\n",
              "      <td>Cozy Entire Floor of Brownstone</td>\n",
              "      <td>4869</td>\n",
              "      <td>LisaRoxanne</td>\n",
              "      <td>Brooklyn</td>\n",
              "      <td>Clinton Hill</td>\n",
              "      <td>40.68514</td>\n",
              "      <td>-73.95976</td>\n",
              "      <td>Entire home/apt</td>\n",
              "      <td>89</td>\n",
              "      <td>1</td>\n",
              "      <td>270</td>\n",
              "      <td>2019-07-05</td>\n",
              "      <td>4.64</td>\n",
              "      <td>1</td>\n",
              "      <td>194</td>\n",
              "    </tr>\n",
              "    <tr>\n",
              "      <th>4</th>\n",
              "      <td>5022</td>\n",
              "      <td>Entire Apt: Spacious Studio/Loft by central park</td>\n",
              "      <td>7192</td>\n",
              "      <td>Laura</td>\n",
              "      <td>Manhattan</td>\n",
              "      <td>East Harlem</td>\n",
              "      <td>40.79851</td>\n",
              "      <td>-73.94399</td>\n",
              "      <td>Entire home/apt</td>\n",
              "      <td>80</td>\n",
              "      <td>10</td>\n",
              "      <td>9</td>\n",
              "      <td>2018-11-19</td>\n",
              "      <td>0.10</td>\n",
              "      <td>1</td>\n",
              "      <td>0</td>\n",
              "    </tr>\n",
              "  </tbody>\n",
              "</table>\n",
              "</div>"
            ],
            "text/plain": [
              "     id  ... availability_365\n",
              "0  2539  ...              365\n",
              "1  2595  ...              355\n",
              "2  3647  ...              365\n",
              "3  3831  ...              194\n",
              "4  5022  ...                0\n",
              "\n",
              "[5 rows x 16 columns]"
            ]
          },
          "metadata": {
            "tags": []
          },
          "execution_count": 9
        }
      ]
    },
    {
      "cell_type": "markdown",
      "metadata": {
        "id": "UeoOo2uWQYQl"
      },
      "source": [
        "As our dataset have almost ~49000 rows, It may possible to have some missing or wrong data in our dataset. Missing data and wrong data will definitely impact our key insights that we'll generate from our dataset. \n",
        "\n",
        "So, We'll check for the null values and wrong values in our dataset and drop them."
      ]
    },
    {
      "cell_type": "markdown",
      "metadata": {
        "id": "1AXwLmyUNm4p"
      },
      "source": [
        "## Missing values"
      ]
    },
    {
      "cell_type": "code",
      "metadata": {
        "id": "6gGuGFIIAGaj",
        "colab": {
          "base_uri": "https://localhost:8080/"
        },
        "outputId": "382fd32c-b56a-4a7c-d087-30fa14f9f76c"
      },
      "source": [
        "(df.isnull().sum() * 100) / df.shape[0]"
      ],
      "execution_count": 10,
      "outputs": [
        {
          "output_type": "execute_result",
          "data": {
            "text/plain": [
              "id                                 0.000000\n",
              "name                               0.032723\n",
              "host_id                            0.000000\n",
              "host_name                          0.042949\n",
              "neighbourhood_group                0.000000\n",
              "neighbourhood                      0.000000\n",
              "latitude                           0.000000\n",
              "longitude                          0.000000\n",
              "room_type                          0.000000\n",
              "price                              0.000000\n",
              "minimum_nights                     0.000000\n",
              "number_of_reviews                  0.000000\n",
              "last_review                       20.558339\n",
              "reviews_per_month                 20.558339\n",
              "calculated_host_listings_count     0.000000\n",
              "availability_365                   0.000000\n",
              "dtype: float64"
            ]
          },
          "metadata": {
            "tags": []
          },
          "execution_count": 10
        }
      ]
    },
    {
      "cell_type": "markdown",
      "metadata": {
        "id": "QRAZlW-JRSLr"
      },
      "source": [
        "After analyzing the dataset, We got the following null rows for columns - \n",
        "\n",
        "\n",
        "1.   **0.0328%** data is missing for [name] column\n",
        "2.   **20.56%** data is missing for [last_review] column\n",
        "3.   **20.56%** data is missing for [reviews_per_month] column\n",
        "\n",
        "A small percentage of data is missing for **[name]** column but we will completely ignore that data as properties name will not much impact on the key insights of our dataset.\n",
        "\n",
        "While more than **20 percent** of data is missing for **[last_review , reviews_per_month]** column.\n",
        "\n",
        "**20.55%** is much more data so we can not drop these rows as it will impact the key analysis of our dataset.\n",
        "\n",
        "These two columns are dependent on each other because, If a property has atleast one review then that review's last date will show on the first column.\n",
        "\n",
        "To take action at these null values, We had take a deep look at these columns data. \n",
        "\n",
        "After analyzing the data, What I'm thinking about these null values is, These are the reviews rows. So some of the property might be listed new who doesn't got any review till now.\n",
        "\n",
        "So, Null value doesn't mean it is wrong data. It may be right data as these properties may also be new who doesn't have any single review now."
      ]
    },
    {
      "cell_type": "markdown",
      "metadata": {
        "id": "AL24I6std9B2"
      },
      "source": [
        "There were **two unique ID's** available in our dataframe so we will remove these ID as our dataset already have index no which again providing the unique value for the properties.\n",
        "\n",
        "We're also removing the **last_review column** as it is not that much important for finding the insights. "
      ]
    },
    {
      "cell_type": "code",
      "metadata": {
        "id": "14A5ueFX6zlC"
      },
      "source": [
        "df= df.drop(['last_review', 'host_id', 'id'],axis=1)"
      ],
      "execution_count": 11,
      "outputs": []
    },
    {
      "cell_type": "code",
      "metadata": {
        "id": "E3I7Kkgq60K1"
      },
      "source": [
        "# review_per_month have null values we can replace it with 0\n",
        "df['reviews_per_month']=df['reviews_per_month'].replace(to_replace=np.nan,value=0).astype('int64')"
      ],
      "execution_count": 12,
      "outputs": []
    },
    {
      "cell_type": "code",
      "metadata": {
        "id": "wrqGFPiU_guT",
        "colab": {
          "base_uri": "https://localhost:8080/"
        },
        "outputId": "06964593-bbd2-4403-bc90-1b6f8bb9a44a"
      },
      "source": [
        "df.dtypes"
      ],
      "execution_count": 13,
      "outputs": [
        {
          "output_type": "execute_result",
          "data": {
            "text/plain": [
              "name                               object\n",
              "host_name                          object\n",
              "neighbourhood_group                object\n",
              "neighbourhood                      object\n",
              "latitude                          float64\n",
              "longitude                         float64\n",
              "room_type                          object\n",
              "price                               int64\n",
              "minimum_nights                      int64\n",
              "number_of_reviews                   int64\n",
              "reviews_per_month                   int64\n",
              "calculated_host_listings_count      int64\n",
              "availability_365                    int64\n",
              "dtype: object"
            ]
          },
          "metadata": {
            "tags": []
          },
          "execution_count": 13
        }
      ]
    },
    {
      "cell_type": "markdown",
      "metadata": {
        "id": "0qBPu-D8ODC3"
      },
      "source": [
        "## Checking Price feature For Outliers/Wrong Data"
      ]
    },
    {
      "cell_type": "markdown",
      "metadata": {
        "id": "3jVAdshKYg60"
      },
      "source": [
        "Price is the most crucial factor for our dataset. Different properties have different pricing. They may variate in pricing from location to location.\n",
        "\n",
        "But no one wanted to list there properties at **0 cost** (Atleast we're assuming this)\n",
        "\n",
        "So, We're checking the price of the property. If any property price = 0 then we assume that these entries are wrong and we will remove that rows."
      ]
    },
    {
      "cell_type": "code",
      "metadata": {
        "id": "K5LJsfICA2tr",
        "colab": {
          "base_uri": "https://localhost:8080/",
          "height": 954
        },
        "outputId": "d5f30540-cf25-4434-d9d7-ed935a77a4b0"
      },
      "source": [
        "df[df['price'] == 0]"
      ],
      "execution_count": 14,
      "outputs": [
        {
          "output_type": "execute_result",
          "data": {
            "text/html": [
              "<div>\n",
              "<style scoped>\n",
              "    .dataframe tbody tr th:only-of-type {\n",
              "        vertical-align: middle;\n",
              "    }\n",
              "\n",
              "    .dataframe tbody tr th {\n",
              "        vertical-align: top;\n",
              "    }\n",
              "\n",
              "    .dataframe thead th {\n",
              "        text-align: right;\n",
              "    }\n",
              "</style>\n",
              "<table border=\"1\" class=\"dataframe\">\n",
              "  <thead>\n",
              "    <tr style=\"text-align: right;\">\n",
              "      <th></th>\n",
              "      <th>name</th>\n",
              "      <th>host_name</th>\n",
              "      <th>neighbourhood_group</th>\n",
              "      <th>neighbourhood</th>\n",
              "      <th>latitude</th>\n",
              "      <th>longitude</th>\n",
              "      <th>room_type</th>\n",
              "      <th>price</th>\n",
              "      <th>minimum_nights</th>\n",
              "      <th>number_of_reviews</th>\n",
              "      <th>reviews_per_month</th>\n",
              "      <th>calculated_host_listings_count</th>\n",
              "      <th>availability_365</th>\n",
              "    </tr>\n",
              "  </thead>\n",
              "  <tbody>\n",
              "    <tr>\n",
              "      <th>23161</th>\n",
              "      <td>Huge Brooklyn Brownstone Living, Close to it all.</td>\n",
              "      <td>Kimberly</td>\n",
              "      <td>Brooklyn</td>\n",
              "      <td>Bedford-Stuyvesant</td>\n",
              "      <td>40.69023</td>\n",
              "      <td>-73.95428</td>\n",
              "      <td>Private room</td>\n",
              "      <td>0</td>\n",
              "      <td>4</td>\n",
              "      <td>1</td>\n",
              "      <td>0</td>\n",
              "      <td>4</td>\n",
              "      <td>28</td>\n",
              "    </tr>\n",
              "    <tr>\n",
              "      <th>25433</th>\n",
              "      <td>★Hostel Style Room | Ideal Traveling Buddies★</td>\n",
              "      <td>Anisha</td>\n",
              "      <td>Bronx</td>\n",
              "      <td>East Morrisania</td>\n",
              "      <td>40.83296</td>\n",
              "      <td>-73.88668</td>\n",
              "      <td>Private room</td>\n",
              "      <td>0</td>\n",
              "      <td>2</td>\n",
              "      <td>55</td>\n",
              "      <td>2</td>\n",
              "      <td>4</td>\n",
              "      <td>127</td>\n",
              "    </tr>\n",
              "    <tr>\n",
              "      <th>25634</th>\n",
              "      <td>MARTIAL LOFT 3: REDEMPTION (upstairs, 2nd room)</td>\n",
              "      <td>Martial Loft</td>\n",
              "      <td>Brooklyn</td>\n",
              "      <td>Bushwick</td>\n",
              "      <td>40.69467</td>\n",
              "      <td>-73.92433</td>\n",
              "      <td>Private room</td>\n",
              "      <td>0</td>\n",
              "      <td>2</td>\n",
              "      <td>16</td>\n",
              "      <td>0</td>\n",
              "      <td>5</td>\n",
              "      <td>0</td>\n",
              "    </tr>\n",
              "    <tr>\n",
              "      <th>25753</th>\n",
              "      <td>Sunny, Quiet Room in Greenpoint</td>\n",
              "      <td>Lauren</td>\n",
              "      <td>Brooklyn</td>\n",
              "      <td>Greenpoint</td>\n",
              "      <td>40.72462</td>\n",
              "      <td>-73.94072</td>\n",
              "      <td>Private room</td>\n",
              "      <td>0</td>\n",
              "      <td>2</td>\n",
              "      <td>12</td>\n",
              "      <td>0</td>\n",
              "      <td>2</td>\n",
              "      <td>0</td>\n",
              "    </tr>\n",
              "    <tr>\n",
              "      <th>25778</th>\n",
              "      <td>Modern apartment in the heart of Williamsburg</td>\n",
              "      <td>Aymeric</td>\n",
              "      <td>Brooklyn</td>\n",
              "      <td>Williamsburg</td>\n",
              "      <td>40.70838</td>\n",
              "      <td>-73.94645</td>\n",
              "      <td>Entire home/apt</td>\n",
              "      <td>0</td>\n",
              "      <td>5</td>\n",
              "      <td>3</td>\n",
              "      <td>0</td>\n",
              "      <td>1</td>\n",
              "      <td>73</td>\n",
              "    </tr>\n",
              "    <tr>\n",
              "      <th>25794</th>\n",
              "      <td>Spacious comfortable master bedroom with nice ...</td>\n",
              "      <td>Adeyemi</td>\n",
              "      <td>Brooklyn</td>\n",
              "      <td>Bedford-Stuyvesant</td>\n",
              "      <td>40.68173</td>\n",
              "      <td>-73.91342</td>\n",
              "      <td>Private room</td>\n",
              "      <td>0</td>\n",
              "      <td>1</td>\n",
              "      <td>93</td>\n",
              "      <td>4</td>\n",
              "      <td>6</td>\n",
              "      <td>176</td>\n",
              "    </tr>\n",
              "    <tr>\n",
              "      <th>25795</th>\n",
              "      <td>Contemporary bedroom in brownstone with nice view</td>\n",
              "      <td>Adeyemi</td>\n",
              "      <td>Brooklyn</td>\n",
              "      <td>Bedford-Stuyvesant</td>\n",
              "      <td>40.68279</td>\n",
              "      <td>-73.91170</td>\n",
              "      <td>Private room</td>\n",
              "      <td>0</td>\n",
              "      <td>1</td>\n",
              "      <td>95</td>\n",
              "      <td>4</td>\n",
              "      <td>6</td>\n",
              "      <td>232</td>\n",
              "    </tr>\n",
              "    <tr>\n",
              "      <th>25796</th>\n",
              "      <td>Cozy yet spacious private brownstone bedroom</td>\n",
              "      <td>Adeyemi</td>\n",
              "      <td>Brooklyn</td>\n",
              "      <td>Bedford-Stuyvesant</td>\n",
              "      <td>40.68258</td>\n",
              "      <td>-73.91284</td>\n",
              "      <td>Private room</td>\n",
              "      <td>0</td>\n",
              "      <td>1</td>\n",
              "      <td>95</td>\n",
              "      <td>4</td>\n",
              "      <td>6</td>\n",
              "      <td>222</td>\n",
              "    </tr>\n",
              "    <tr>\n",
              "      <th>26259</th>\n",
              "      <td>the best you can find</td>\n",
              "      <td>Qiuchi</td>\n",
              "      <td>Manhattan</td>\n",
              "      <td>Murray Hill</td>\n",
              "      <td>40.75091</td>\n",
              "      <td>-73.97597</td>\n",
              "      <td>Entire home/apt</td>\n",
              "      <td>0</td>\n",
              "      <td>3</td>\n",
              "      <td>0</td>\n",
              "      <td>0</td>\n",
              "      <td>1</td>\n",
              "      <td>0</td>\n",
              "    </tr>\n",
              "    <tr>\n",
              "      <th>26841</th>\n",
              "      <td>Coliving in Brooklyn! Modern design / Shared room</td>\n",
              "      <td>Sergii</td>\n",
              "      <td>Brooklyn</td>\n",
              "      <td>Bushwick</td>\n",
              "      <td>40.69211</td>\n",
              "      <td>-73.90670</td>\n",
              "      <td>Shared room</td>\n",
              "      <td>0</td>\n",
              "      <td>30</td>\n",
              "      <td>2</td>\n",
              "      <td>0</td>\n",
              "      <td>6</td>\n",
              "      <td>333</td>\n",
              "    </tr>\n",
              "    <tr>\n",
              "      <th>26866</th>\n",
              "      <td>Best Coliving space ever! Shared room.</td>\n",
              "      <td>Sergii</td>\n",
              "      <td>Brooklyn</td>\n",
              "      <td>Bushwick</td>\n",
              "      <td>40.69166</td>\n",
              "      <td>-73.90928</td>\n",
              "      <td>Shared room</td>\n",
              "      <td>0</td>\n",
              "      <td>30</td>\n",
              "      <td>5</td>\n",
              "      <td>0</td>\n",
              "      <td>6</td>\n",
              "      <td>139</td>\n",
              "    </tr>\n",
              "  </tbody>\n",
              "</table>\n",
              "</div>"
            ],
            "text/plain": [
              "                                                    name  ... availability_365\n",
              "23161  Huge Brooklyn Brownstone Living, Close to it all.  ...               28\n",
              "25433      ★Hostel Style Room | Ideal Traveling Buddies★  ...              127\n",
              "25634    MARTIAL LOFT 3: REDEMPTION (upstairs, 2nd room)  ...                0\n",
              "25753                    Sunny, Quiet Room in Greenpoint  ...                0\n",
              "25778      Modern apartment in the heart of Williamsburg  ...               73\n",
              "25794  Spacious comfortable master bedroom with nice ...  ...              176\n",
              "25795  Contemporary bedroom in brownstone with nice view  ...              232\n",
              "25796       Cozy yet spacious private brownstone bedroom  ...              222\n",
              "26259                              the best you can find  ...                0\n",
              "26841  Coliving in Brooklyn! Modern design / Shared room  ...              333\n",
              "26866             Best Coliving space ever! Shared room.  ...              139\n",
              "\n",
              "[11 rows x 13 columns]"
            ]
          },
          "metadata": {
            "tags": []
          },
          "execution_count": 14
        }
      ]
    },
    {
      "cell_type": "code",
      "metadata": {
        "id": "c4umGc-CGYBI"
      },
      "source": [
        "# Dropping the rows where price = 0\n",
        "\n",
        "temp_rows = df.index[df['price'] == 0].tolist()"
      ],
      "execution_count": 15,
      "outputs": []
    },
    {
      "cell_type": "code",
      "metadata": {
        "id": "G-DfaB5vBXgj"
      },
      "source": [
        "df.drop(temp_rows, inplace=True)"
      ],
      "execution_count": 16,
      "outputs": []
    },
    {
      "cell_type": "code",
      "metadata": {
        "id": "wdJZqxFkDFKT",
        "colab": {
          "base_uri": "https://localhost:8080/"
        },
        "outputId": "fff30012-026d-43cc-cccc-0de73414e796"
      },
      "source": [
        "df.shape"
      ],
      "execution_count": 17,
      "outputs": [
        {
          "output_type": "execute_result",
          "data": {
            "text/plain": [
              "(48884, 13)"
            ]
          },
          "metadata": {
            "tags": []
          },
          "execution_count": 17
        }
      ]
    },
    {
      "cell_type": "markdown",
      "metadata": {
        "id": "I55tILf1DcAP"
      },
      "source": [
        "## 1. Removing Outliers From The Dataset\n",
        "\n",
        "Checking for outliers in numerical column like price, minimum_nights, number_of_reviews"
      ]
    },
    {
      "cell_type": "code",
      "metadata": {
        "id": "e9ihGsf3Dflp",
        "colab": {
          "base_uri": "https://localhost:8080/"
        },
        "outputId": "2b1181d9-4c32-4e3c-b197-9b637c830d96"
      },
      "source": [
        "df[\"price\"].value_counts()"
      ],
      "execution_count": 18,
      "outputs": [
        {
          "output_type": "execute_result",
          "data": {
            "text/plain": [
              "100     2051\n",
              "150     2047\n",
              "50      1534\n",
              "60      1458\n",
              "200     1401\n",
              "        ... \n",
              "2010       1\n",
              "1485       1\n",
              "822        1\n",
              "539        1\n",
              "1880       1\n",
              "Name: price, Length: 673, dtype: int64"
            ]
          },
          "metadata": {
            "tags": []
          },
          "execution_count": 18
        }
      ]
    },
    {
      "cell_type": "code",
      "metadata": {
        "id": "Ivjy75RADqip",
        "colab": {
          "base_uri": "https://localhost:8080/",
          "height": 322
        },
        "outputId": "773649db-bbb2-4b5e-fd12-0f6781150c95"
      },
      "source": [
        "plt.figure(figsize=(10,5))\n",
        "vio_plt=sns.boxplot(data=df, y='price')\n",
        "vio_plt.set_title('Price distribution')\n",
        "plt.show()"
      ],
      "execution_count": 19,
      "outputs": [
        {
          "output_type": "display_data",
          "data": {
            "image/png": "[encoded data removed]",
            "text/plain": [
              "<Figure size 720x360 with 1 Axes>"
            ]
          },
          "metadata": {
            "tags": [],
            "needs_background": "light"
          }
        }
      ]
    },
    {
      "cell_type": "markdown",
      "metadata": {
        "id": "9oUDtGQcD8Pg"
      },
      "source": [
        "There is outliers in price, we have to remove this so we will use Interquartile range (middle 50% =Q3-Q1) method to do the operation."
      ]
    },
    {
      "cell_type": "code",
      "metadata": {
        "id": "QT_7e6ItDqrW"
      },
      "source": [
        "def outlier_removal(data_col):\n",
        " data_col = sorted(data_col)\n",
        " Q1,Q3 = np.percentile(data_col, [25,75])\n",
        " IQR = Q3 - Q1\n",
        " lower_range = Q1 - (1.5 * IQR)\n",
        " upper_range = Q3 + (1.5 * IQR)\n",
        " \n",
        " return lower_range,upper_range"
      ],
      "execution_count": 20,
      "outputs": []
    },
    {
      "cell_type": "code",
      "metadata": {
        "id": "R6zyt7InHb9q"
      },
      "source": [
        "lower_bound,upper_bound = outlier_removal(df['price'])"
      ],
      "execution_count": 21,
      "outputs": []
    },
    {
      "cell_type": "code",
      "metadata": {
        "id": "6hiEQabwH7lx"
      },
      "source": [
        "df1 = df[(df.price>lower_bound) & (df.price<upper_bound)]"
      ],
      "execution_count": 22,
      "outputs": []
    },
    {
      "cell_type": "code",
      "metadata": {
        "id": "JHt-0GwvHwEX",
        "colab": {
          "base_uri": "https://localhost:8080/",
          "height": 322
        },
        "outputId": "d35194ba-564d-497a-c8ff-41d2b4bcc1ef"
      },
      "source": [
        "plt.figure(figsize=(10,5))\n",
        "vio_plt=sns.boxplot(data=df1, y='price')\n",
        "vio_plt.set_title('Price distribution')\n",
        "plt.show()"
      ],
      "execution_count": 23,
      "outputs": [
        {
          "output_type": "display_data",
          "data": {
            "image/png": "[encoded data removed]",
            "text/plain": [
              "<Figure size 720x360 with 1 Axes>"
            ]
          },
          "metadata": {
            "tags": [],
            "needs_background": "light"
          }
        }
      ]
    },
    {
      "cell_type": "markdown",
      "metadata": {
        "id": "vffkgika8V9o"
      },
      "source": [
        "We're now checking the outliers in the ***minimum_nights*** column"
      ]
    },
    {
      "cell_type": "code",
      "metadata": {
        "colab": {
          "base_uri": "https://localhost:8080/",
          "height": 378
        },
        "id": "ScgutwQEQR54",
        "outputId": "56afa88a-79c7-4170-9c0b-da446c3437d8"
      },
      "source": [
        "plt.figure(figsize = (12,6))\n",
        "sns.boxplot(y = 'minimum_nights', data = df1)"
      ],
      "execution_count": 24,
      "outputs": [
        {
          "output_type": "execute_result",
          "data": {
            "text/plain": [
              "<matplotlib.axes._subplots.AxesSubplot at 0x7f6019814990>"
            ]
          },
          "metadata": {
            "tags": []
          },
          "execution_count": 24
        },
        {
          "output_type": "display_data",
          "data": {
            "image/png": "[encoded data removed]",
            "text/plain": [
              "<Figure size 864x432 with 1 Axes>"
            ]
          },
          "metadata": {
            "tags": [],
            "needs_background": "light"
          }
        }
      ]
    },
    {
      "cell_type": "markdown",
      "metadata": {
        "id": "8TmeYtfMQvNA"
      },
      "source": [
        "There are some properties who offer minimum of more than 1000 Nights. It may be right according to host but these properties can effect the overall accuracy of our dataset so we will remove these properties."
      ]
    },
    {
      "cell_type": "code",
      "metadata": {
        "id": "24z5Qz_wRcBE"
      },
      "source": [
        "df1 = df1[df1['minimum_nights'] < 999]"
      ],
      "execution_count": 25,
      "outputs": []
    },
    {
      "cell_type": "code",
      "metadata": {
        "id": "9jPJ8UpVIFBh",
        "colab": {
          "base_uri": "https://localhost:8080/"
        },
        "outputId": "d95f846a-f672-45cc-f445-7fddf8ed7979"
      },
      "source": [
        "df1.info()"
      ],
      "execution_count": 26,
      "outputs": [
        {
          "output_type": "stream",
          "text": [
            "<class 'pandas.core.frame.DataFrame'>\n",
            "Int64Index: 45903 entries, 0 to 48894\n",
            "Data columns (total 13 columns):\n",
            " #   Column                          Non-Null Count  Dtype  \n",
            "---  ------                          --------------  -----  \n",
            " 0   name                            45888 non-null  object \n",
            " 1   host_name                       45882 non-null  object \n",
            " 2   neighbourhood_group             45903 non-null  object \n",
            " 3   neighbourhood                   45903 non-null  object \n",
            " 4   latitude                        45903 non-null  float64\n",
            " 5   longitude                       45903 non-null  float64\n",
            " 6   room_type                       45903 non-null  object \n",
            " 7   price                           45903 non-null  int64  \n",
            " 8   minimum_nights                  45903 non-null  int64  \n",
            " 9   number_of_reviews               45903 non-null  int64  \n",
            " 10  reviews_per_month               45903 non-null  int64  \n",
            " 11  calculated_host_listings_count  45903 non-null  int64  \n",
            " 12  availability_365                45903 non-null  int64  \n",
            "dtypes: float64(2), int64(6), object(5)\n",
            "memory usage: 4.9+ MB\n"
          ],
          "name": "stdout"
        }
      ]
    },
    {
      "cell_type": "markdown",
      "metadata": {
        "id": "X8QlZNYnbjkj"
      },
      "source": [
        "Data cleaning is completed now, We have left 45903 rows and 13 columns which are enough to get insights from our dataset.\n",
        "\n",
        "Now, we'll explore our dataset to get the some wonderful key understandings.\n",
        "\n"
      ]
    },
    {
      "cell_type": "markdown",
      "metadata": {
        "id": "p881VzQsb_-7"
      },
      "source": [
        "# 2 - (Exploratory Data Analysis) EDA Start...\n"
      ]
    },
    {
      "cell_type": "code",
      "metadata": {
        "id": "tFEXF-6zEHZg",
        "colab": {
          "base_uri": "https://localhost:8080/",
          "height": 646
        },
        "outputId": "a61f836a-6c21-475c-b6ca-2da24d6c2db7"
      },
      "source": [
        "#correlation matrix (to check relation between features)\n",
        "corrmat = df.corr()\n",
        "f, ax = plt.subplots(figsize=(10, 8))\n",
        "sns.heatmap(corrmat, vmax=.8, square=True, annot=True, linewidth = 0.2)"
      ],
      "execution_count": 27,
      "outputs": [
        {
          "output_type": "execute_result",
          "data": {
            "text/plain": [
              "<matplotlib.axes._subplots.AxesSubplot at 0x7f6019730cd0>"
            ]
          },
          "metadata": {
            "tags": []
          },
          "execution_count": 27
        },
        {
          "output_type": "display_data",
          "data": {
            "image/png": "[encoded data removed]",
            "text/plain": [
              "<Figure size 720x576 with 2 Axes>"
            ]
          },
          "metadata": {
            "tags": [],
            "needs_background": "light"
          }
        }
      ]
    },
    {
      "cell_type": "markdown",
      "metadata": {
        "id": "oFIcmWmOGHo4"
      },
      "source": [
        "We're getting some positive as well as negative corelation between various features.\n",
        "\n",
        "\n"
      ]
    },
    {
      "cell_type": "markdown",
      "metadata": {
        "id": "Ina4S0i_QCSN"
      },
      "source": [
        "## Which Host has highest no. of Properties"
      ]
    },
    {
      "cell_type": "code",
      "metadata": {
        "id": "LEn_ZzobQXEz",
        "colab": {
          "base_uri": "https://localhost:8080/"
        },
        "outputId": "27fd9484-fc16-43b9-d22d-58cc802ee502"
      },
      "source": [
        "#Top 10 hosts with most no of properties in entire NYC\n",
        "\n",
        "top_10_hosts=df['host_name'].value_counts()[:10] \n",
        "top_10_hosts"
      ],
      "execution_count": 28,
      "outputs": [
        {
          "output_type": "execute_result",
          "data": {
            "text/plain": [
              "Michael         417\n",
              "David           403\n",
              "Sonder (NYC)    327\n",
              "John            294\n",
              "Alex            279\n",
              "Blueground      232\n",
              "Sarah           227\n",
              "Daniel          226\n",
              "Jessica         205\n",
              "Maria           204\n",
              "Name: host_name, dtype: int64"
            ]
          },
          "metadata": {
            "tags": []
          },
          "execution_count": 28
        }
      ]
    },
    {
      "cell_type": "code",
      "metadata": {
        "id": "dIsIbUusRb3d",
        "colab": {
          "base_uri": "https://localhost:8080/",
          "height": 531
        },
        "outputId": "bb2bd8a5-ee51-4f93-9a7d-f7cd472b5775"
      },
      "source": [
        "top_10_hosts.plot(kind='bar',color='red', figsize = (13,7))\n",
        "plt.xlabel('Top Host of the NYC')\n",
        "plt.ylabel('Total NYC Listings')\n",
        "plt.title('Top 10 Hosts on the basis of Total Listings in Entire NYC!')"
      ],
      "execution_count": 29,
      "outputs": [
        {
          "output_type": "execute_result",
          "data": {
            "text/plain": [
              "Text(0.5, 1.0, 'Top 10 Hosts on the basis of Total Listings in Entire NYC!')"
            ]
          },
          "metadata": {
            "tags": []
          },
          "execution_count": 29
        },
        {
          "output_type": "display_data",
          "data": {
            "image/png": "[encoded data removed]",
            "text/plain": [
              "<Figure size 936x504 with 1 Axes>"
            ]
          },
          "metadata": {
            "tags": [],
            "needs_background": "light"
          }
        }
      ]
    },
    {
      "cell_type": "markdown",
      "metadata": {
        "id": "D0t7J8BQxiqq"
      },
      "source": [
        "Here Michael is the top host with 417 properties now, We will explore some more data about Michael."
      ]
    },
    {
      "cell_type": "code",
      "metadata": {
        "id": "Wu-B_Pm3VKue"
      },
      "source": [
        "top_host_data = df[df['host_name'] == 'Michael']"
      ],
      "execution_count": 30,
      "outputs": []
    },
    {
      "cell_type": "code",
      "metadata": {
        "colab": {
          "base_uri": "https://localhost:8080/",
          "height": 374
        },
        "id": "9R1t3cyYW8uX",
        "outputId": "dcb34c90-c982-4f49-e26b-f264c14e56f1"
      },
      "source": [
        "#No. 1 host total listings in different Neighbourhood Groups\n",
        "top_host_data.groupby(['neighbourhood_group'])['calculated_host_listings_count'].count().plot.barh(figsize = (7,6))\n",
        "plt.show()"
      ],
      "execution_count": 31,
      "outputs": [
        {
          "output_type": "display_data",
          "data": {
            "image/png": "[encoded data removed]",
            "text/plain": [
              "<Figure size 504x432 with 1 Axes>"
            ]
          },
          "metadata": {
            "tags": [],
            "needs_background": "light"
          }
        }
      ]
    },
    {
      "cell_type": "markdown",
      "metadata": {
        "id": "H1D05YzPYK3I"
      },
      "source": [
        "Top host (Michael) have more than 200 listings in Manhattan. We will findout why hosts loves to list there property for Manhattan Neighbourhood Group."
      ]
    },
    {
      "cell_type": "code",
      "metadata": {
        "colab": {
          "base_uri": "https://localhost:8080/",
          "height": 444
        },
        "id": "q_ZpnC5QH1ij",
        "outputId": "aa0be21a-49db-482c-81ed-2630599e1228"
      },
      "source": [
        "#Checking the property type of the top host.\n",
        "\n",
        "top_host_data['room_type'].value_counts().plot.bar(figsize = (5,6), color = 'red')\n",
        "plt.show()"
      ],
      "execution_count": 32,
      "outputs": [
        {
          "output_type": "display_data",
          "data": {
            "image/png": "[encoded data removed]",
            "text/plain": [
              "<Figure size 360x432 with 1 Axes>"
            ]
          },
          "metadata": {
            "tags": [],
            "needs_background": "light"
          }
        }
      ]
    },
    {
      "cell_type": "markdown",
      "metadata": {
        "id": "mhao1QaAH6hA"
      },
      "source": [
        "Top host has the approx **250 properties** of Entire home/apt type while private Rooms stands second. Top host is mainly interested in **Entire home/apt**.\n",
        "\n",
        "Shared rooms count is less than 25."
      ]
    },
    {
      "cell_type": "markdown",
      "metadata": {
        "id": "tXRwsCbAL0Dv"
      },
      "source": [
        "## Number of rooms listed in different neighbourhood groups"
      ]
    },
    {
      "cell_type": "code",
      "metadata": {
        "colab": {
          "base_uri": "https://localhost:8080/",
          "height": 204
        },
        "id": "D_dUGIe0DitA",
        "outputId": "aae6f31f-1134-47b2-faef-79e749664e60"
      },
      "source": [
        "neighbourhood_group_df = pd.DataFrame(df.groupby(['neighbourhood_group'])['calculated_host_listings_count'].count()).reset_index().rename(columns = {'neighbourhood_group': 'Neighbourhood Group' , 'calculated_host_listings_count': 'Total Properties'})\n",
        "neighbourhood_group_df"
      ],
      "execution_count": 33,
      "outputs": [
        {
          "output_type": "execute_result",
          "data": {
            "text/html": [
              "<div>\n",
              "<style scoped>\n",
              "    .dataframe tbody tr th:only-of-type {\n",
              "        vertical-align: middle;\n",
              "    }\n",
              "\n",
              "    .dataframe tbody tr th {\n",
              "        vertical-align: top;\n",
              "    }\n",
              "\n",
              "    .dataframe thead th {\n",
              "        text-align: right;\n",
              "    }\n",
              "</style>\n",
              "<table border=\"1\" class=\"dataframe\">\n",
              "  <thead>\n",
              "    <tr style=\"text-align: right;\">\n",
              "      <th></th>\n",
              "      <th>Neighbourhood Group</th>\n",
              "      <th>Total Properties</th>\n",
              "    </tr>\n",
              "  </thead>\n",
              "  <tbody>\n",
              "    <tr>\n",
              "      <th>0</th>\n",
              "      <td>Bronx</td>\n",
              "      <td>1090</td>\n",
              "    </tr>\n",
              "    <tr>\n",
              "      <th>1</th>\n",
              "      <td>Brooklyn</td>\n",
              "      <td>20095</td>\n",
              "    </tr>\n",
              "    <tr>\n",
              "      <th>2</th>\n",
              "      <td>Manhattan</td>\n",
              "      <td>21660</td>\n",
              "    </tr>\n",
              "    <tr>\n",
              "      <th>3</th>\n",
              "      <td>Queens</td>\n",
              "      <td>5666</td>\n",
              "    </tr>\n",
              "    <tr>\n",
              "      <th>4</th>\n",
              "      <td>Staten Island</td>\n",
              "      <td>373</td>\n",
              "    </tr>\n",
              "  </tbody>\n",
              "</table>\n",
              "</div>"
            ],
            "text/plain": [
              "  Neighbourhood Group  Total Properties\n",
              "0               Bronx              1090\n",
              "1            Brooklyn             20095\n",
              "2           Manhattan             21660\n",
              "3              Queens              5666\n",
              "4       Staten Island               373"
            ]
          },
          "metadata": {
            "tags": []
          },
          "execution_count": 33
        }
      ]
    },
    {
      "cell_type": "code",
      "metadata": {
        "colab": {
          "base_uri": "https://localhost:8080/",
          "height": 482
        },
        "id": "ewmF1DRkFnA5",
        "outputId": "7923d8c0-0d97-4524-e296-12f4982e3041"
      },
      "source": [
        "neighbourhood_group_df.plot.pie(y = 'Total Properties', shadow = True, autopct = '%1.1f%%', explode = (0, 0.06, 0,0,0), labels = neighbourhood_group_df['Neighbourhood Group'], figsize = (10,8))\n",
        "plt.title(\"Number of rooms listed in different neighbourhood group\")\n",
        "plt.show()"
      ],
      "execution_count": 34,
      "outputs": [
        {
          "output_type": "display_data",
          "data": {
            "image/png": "[encoded data removed]",
            "text/plain": [
              "<Figure size 720x576 with 1 Axes>"
            ]
          },
          "metadata": {
            "tags": []
          }
        }
      ]
    },
    {
      "cell_type": "markdown",
      "metadata": {
        "id": "_MKy3_YVfb9q"
      },
      "source": [
        "*Manhattan and Brooklyn Neighbourhood Group have more than 20,000 active Properties listed on AirBnb while Staten Island and Bronx together have active listed properties less than 2000.*"
      ]
    },
    {
      "cell_type": "code",
      "metadata": {
        "id": "xs-1pW2gmX0u",
        "colab": {
          "base_uri": "https://localhost:8080/",
          "height": 142
        },
        "outputId": "b97111e6-0bdb-4c77-be2e-ed5a000a57d4"
      },
      "source": [
        "# calculating total number of rooms types\n",
        "\n",
        "room_type_df = pd.DataFrame(df['room_type'].value_counts()).reset_index().rename(columns = {\"index\":'room_type', 'room_type':'Total_listed_rooms'})\n",
        "\n",
        "room_type_df"
      ],
      "execution_count": 35,
      "outputs": [
        {
          "output_type": "execute_result",
          "data": {
            "text/html": [
              "<div>\n",
              "<style scoped>\n",
              "    .dataframe tbody tr th:only-of-type {\n",
              "        vertical-align: middle;\n",
              "    }\n",
              "\n",
              "    .dataframe tbody tr th {\n",
              "        vertical-align: top;\n",
              "    }\n",
              "\n",
              "    .dataframe thead th {\n",
              "        text-align: right;\n",
              "    }\n",
              "</style>\n",
              "<table border=\"1\" class=\"dataframe\">\n",
              "  <thead>\n",
              "    <tr style=\"text-align: right;\">\n",
              "      <th></th>\n",
              "      <th>room_type</th>\n",
              "      <th>Total_listed_rooms</th>\n",
              "    </tr>\n",
              "  </thead>\n",
              "  <tbody>\n",
              "    <tr>\n",
              "      <th>0</th>\n",
              "      <td>Entire home/apt</td>\n",
              "      <td>25407</td>\n",
              "    </tr>\n",
              "    <tr>\n",
              "      <th>1</th>\n",
              "      <td>Private room</td>\n",
              "      <td>22319</td>\n",
              "    </tr>\n",
              "    <tr>\n",
              "      <th>2</th>\n",
              "      <td>Shared room</td>\n",
              "      <td>1158</td>\n",
              "    </tr>\n",
              "  </tbody>\n",
              "</table>\n",
              "</div>"
            ],
            "text/plain": [
              "         room_type  Total_listed_rooms\n",
              "0  Entire home/apt               25407\n",
              "1     Private room               22319\n",
              "2      Shared room                1158"
            ]
          },
          "metadata": {
            "tags": []
          },
          "execution_count": 35
        }
      ]
    },
    {
      "cell_type": "code",
      "metadata": {
        "id": "8YLiHUeUmaKF",
        "colab": {
          "base_uri": "https://localhost:8080/",
          "height": 382
        },
        "outputId": "7a4373f1-cf01-4e85-92ba-5d4c42b43a12"
      },
      "source": [
        "room_type_df.plot.pie(y = 'Total_listed_rooms', shadow = True, explode = (0.07, 0.07, 0), autopct='%1.1f%%',labels= room_type_df['room_type'] ,legend = False, figsize=(6,8))\n",
        "plt.title(\"Number of rooms listed\")\n",
        "plt.show()"
      ],
      "execution_count": 36,
      "outputs": [
        {
          "output_type": "display_data",
          "data": {
            "image/png": "[encoded data removed]",
            "text/plain": [
              "<Figure size 432x576 with 1 Axes>"
            ]
          },
          "metadata": {
            "tags": []
          }
        }
      ]
    },
    {
      "cell_type": "markdown",
      "metadata": {
        "id": "dK3Di4XKwfZs"
      },
      "source": [
        "Almost 52% Entire home/apt is available for booking while 46% Shared Room is available for booking. From this insight we can know that, Most of the Host wants to give their full home/apt because they get highest price for their full property. "
      ]
    },
    {
      "cell_type": "code",
      "metadata": {
        "id": "4_Qc6Z7-HQJx",
        "colab": {
          "base_uri": "https://localhost:8080/",
          "height": 359
        },
        "outputId": "89dd2c43-f6ee-4cfa-8b2a-7898c68a0175"
      },
      "source": [
        "#Top 10 expensive properties\n",
        "\n",
        "top_expensive_properties = df1.nlargest(10, 'price')[['neighbourhood_group','host_name','room_type', 'price']]\n",
        "top_expensive_properties"
      ],
      "execution_count": 37,
      "outputs": [
        {
          "output_type": "execute_result",
          "data": {
            "text/html": [
              "<div>\n",
              "<style scoped>\n",
              "    .dataframe tbody tr th:only-of-type {\n",
              "        vertical-align: middle;\n",
              "    }\n",
              "\n",
              "    .dataframe tbody tr th {\n",
              "        vertical-align: top;\n",
              "    }\n",
              "\n",
              "    .dataframe thead th {\n",
              "        text-align: right;\n",
              "    }\n",
              "</style>\n",
              "<table border=\"1\" class=\"dataframe\">\n",
              "  <thead>\n",
              "    <tr style=\"text-align: right;\">\n",
              "      <th></th>\n",
              "      <th>neighbourhood_group</th>\n",
              "      <th>host_name</th>\n",
              "      <th>room_type</th>\n",
              "      <th>price</th>\n",
              "    </tr>\n",
              "  </thead>\n",
              "  <tbody>\n",
              "    <tr>\n",
              "      <th>13798</th>\n",
              "      <td>Brooklyn</td>\n",
              "      <td>Cullen</td>\n",
              "      <td>Entire home/apt</td>\n",
              "      <td>333</td>\n",
              "    </tr>\n",
              "    <tr>\n",
              "      <th>15150</th>\n",
              "      <td>Manhattan</td>\n",
              "      <td>Adam</td>\n",
              "      <td>Entire home/apt</td>\n",
              "      <td>333</td>\n",
              "    </tr>\n",
              "    <tr>\n",
              "      <th>19641</th>\n",
              "      <td>Manhattan</td>\n",
              "      <td>Fatima</td>\n",
              "      <td>Private room</td>\n",
              "      <td>333</td>\n",
              "    </tr>\n",
              "    <tr>\n",
              "      <th>25161</th>\n",
              "      <td>Manhattan</td>\n",
              "      <td>Mel</td>\n",
              "      <td>Entire home/apt</td>\n",
              "      <td>333</td>\n",
              "    </tr>\n",
              "    <tr>\n",
              "      <th>28062</th>\n",
              "      <td>Manhattan</td>\n",
              "      <td>Rated</td>\n",
              "      <td>Entire home/apt</td>\n",
              "      <td>333</td>\n",
              "    </tr>\n",
              "    <tr>\n",
              "      <th>32976</th>\n",
              "      <td>Manhattan</td>\n",
              "      <td>Alex</td>\n",
              "      <td>Entire home/apt</td>\n",
              "      <td>333</td>\n",
              "    </tr>\n",
              "    <tr>\n",
              "      <th>38565</th>\n",
              "      <td>Manhattan</td>\n",
              "      <td>Aleszea</td>\n",
              "      <td>Entire home/apt</td>\n",
              "      <td>333</td>\n",
              "    </tr>\n",
              "    <tr>\n",
              "      <th>45303</th>\n",
              "      <td>Manhattan</td>\n",
              "      <td>Paola</td>\n",
              "      <td>Entire home/apt</td>\n",
              "      <td>333</td>\n",
              "    </tr>\n",
              "    <tr>\n",
              "      <th>48567</th>\n",
              "      <td>Manhattan</td>\n",
              "      <td>Clinton</td>\n",
              "      <td>Entire home/apt</td>\n",
              "      <td>333</td>\n",
              "    </tr>\n",
              "    <tr>\n",
              "      <th>38756</th>\n",
              "      <td>Manhattan</td>\n",
              "      <td>Blueground</td>\n",
              "      <td>Entire home/apt</td>\n",
              "      <td>332</td>\n",
              "    </tr>\n",
              "  </tbody>\n",
              "</table>\n",
              "</div>"
            ],
            "text/plain": [
              "      neighbourhood_group   host_name        room_type  price\n",
              "13798            Brooklyn      Cullen  Entire home/apt    333\n",
              "15150           Manhattan        Adam  Entire home/apt    333\n",
              "19641           Manhattan      Fatima     Private room    333\n",
              "25161           Manhattan         Mel  Entire home/apt    333\n",
              "28062           Manhattan       Rated  Entire home/apt    333\n",
              "32976           Manhattan        Alex  Entire home/apt    333\n",
              "38565           Manhattan     Aleszea  Entire home/apt    333\n",
              "45303           Manhattan       Paola  Entire home/apt    333\n",
              "48567           Manhattan     Clinton  Entire home/apt    333\n",
              "38756           Manhattan  Blueground  Entire home/apt    332"
            ]
          },
          "metadata": {
            "tags": []
          },
          "execution_count": 37
        }
      ]
    },
    {
      "cell_type": "markdown",
      "metadata": {
        "id": "f5m44wDSzIpN"
      },
      "source": [
        "Now we will check the direct relationship between pricing and reviews. but we can not do that directly.\n",
        "\n",
        "So, we will create a new column **[Price_type]** which will tell us whether a property is **Cheaper**, **Mid** or **Expensive** one."
      ]
    },
    {
      "cell_type": "code",
      "metadata": {
        "id": "L4zREKb0yPZC"
      },
      "source": [
        "con = [\n",
        "  (df1.price <= 50),\n",
        "  (df1.price > 50) & (df1.price < 100),\n",
        "  (df1.price >= 100)       \n",
        "]\n",
        "\n",
        "val = ['Cheap', 'Mid', 'Expensive']"
      ],
      "execution_count": 38,
      "outputs": []
    },
    {
      "cell_type": "code",
      "metadata": {
        "id": "MeM5yUFzy7v0"
      },
      "source": [
        "df1['price_type'] = np.select(con,val)"
      ],
      "execution_count": 39,
      "outputs": []
    },
    {
      "cell_type": "code",
      "metadata": {
        "colab": {
          "base_uri": "https://localhost:8080/",
          "height": 460
        },
        "id": "SJi0QArwzHft",
        "outputId": "e6470c8d-17e4-42f4-b9ad-e54e0693d6b3"
      },
      "source": [
        "#Checking the relationship between pricing and reviews.\n",
        "\n",
        "plt.figure(figsize = (13,7))\n",
        "sns.lineplot(x = 'price_type', y = 'number_of_reviews', data = df1)"
      ],
      "execution_count": 40,
      "outputs": [
        {
          "output_type": "execute_result",
          "data": {
            "text/plain": [
              "<matplotlib.axes._subplots.AxesSubplot at 0x7f600f373f50>"
            ]
          },
          "metadata": {
            "tags": []
          },
          "execution_count": 40
        },
        {
          "output_type": "display_data",
          "data": {
            "image/png": "[encoded data removed]",
            "text/plain": [
              "<Figure size 936x504 with 1 Axes>"
            ]
          },
          "metadata": {
            "tags": [],
            "needs_background": "light"
          }
        }
      ]
    },
    {
      "cell_type": "code",
      "metadata": {
        "id": "tbdmvVo1mSTx"
      },
      "source": [
        "# Avg pricing for the properties for different Room Types\n",
        "\n",
        "avg_pricing = df1.groupby(['neighbourhood_group', 'room_type'])['price'].agg(['mean'])"
      ],
      "execution_count": 41,
      "outputs": []
    },
    {
      "cell_type": "code",
      "metadata": {
        "id": "R6Or9GXcmZA6",
        "colab": {
          "base_uri": "https://localhost:8080/",
          "height": 545
        },
        "outputId": "b409ef4b-6390-49c9-d8fe-f1452c981fd0"
      },
      "source": [
        "avg_pricing"
      ],
      "execution_count": 42,
      "outputs": [
        {
          "output_type": "execute_result",
          "data": {
            "text/html": [
              "<div>\n",
              "<style scoped>\n",
              "    .dataframe tbody tr th:only-of-type {\n",
              "        vertical-align: middle;\n",
              "    }\n",
              "\n",
              "    .dataframe tbody tr th {\n",
              "        vertical-align: top;\n",
              "    }\n",
              "\n",
              "    .dataframe thead th {\n",
              "        text-align: right;\n",
              "    }\n",
              "</style>\n",
              "<table border=\"1\" class=\"dataframe\">\n",
              "  <thead>\n",
              "    <tr style=\"text-align: right;\">\n",
              "      <th></th>\n",
              "      <th></th>\n",
              "      <th>mean</th>\n",
              "    </tr>\n",
              "    <tr>\n",
              "      <th>neighbourhood_group</th>\n",
              "      <th>room_type</th>\n",
              "      <th></th>\n",
              "    </tr>\n",
              "  </thead>\n",
              "  <tbody>\n",
              "    <tr>\n",
              "      <th rowspan=\"3\" valign=\"top\">Bronx</th>\n",
              "      <th>Entire home/apt</th>\n",
              "      <td>112.195592</td>\n",
              "    </tr>\n",
              "    <tr>\n",
              "      <th>Private room</th>\n",
              "      <td>60.689335</td>\n",
              "    </tr>\n",
              "    <tr>\n",
              "      <th>Shared room</th>\n",
              "      <td>47.254237</td>\n",
              "    </tr>\n",
              "    <tr>\n",
              "      <th rowspan=\"3\" valign=\"top\">Brooklyn</th>\n",
              "      <th>Entire home/apt</th>\n",
              "      <td>148.218656</td>\n",
              "    </tr>\n",
              "    <tr>\n",
              "      <th>Private room</th>\n",
              "      <td>70.324515</td>\n",
              "    </tr>\n",
              "    <tr>\n",
              "      <th>Shared room</th>\n",
              "      <td>48.271394</td>\n",
              "    </tr>\n",
              "    <tr>\n",
              "      <th rowspan=\"3\" valign=\"top\">Manhattan</th>\n",
              "      <th>Entire home/apt</th>\n",
              "      <td>181.644693</td>\n",
              "    </tr>\n",
              "    <tr>\n",
              "      <th>Private room</th>\n",
              "      <td>98.057700</td>\n",
              "    </tr>\n",
              "    <tr>\n",
              "      <th>Shared room</th>\n",
              "      <td>75.866379</td>\n",
              "    </tr>\n",
              "    <tr>\n",
              "      <th rowspan=\"3\" valign=\"top\">Queens</th>\n",
              "      <th>Entire home/apt</th>\n",
              "      <td>131.328388</td>\n",
              "    </tr>\n",
              "    <tr>\n",
              "      <th>Private room</th>\n",
              "      <td>65.732319</td>\n",
              "    </tr>\n",
              "    <tr>\n",
              "      <th>Shared room</th>\n",
              "      <td>46.989691</td>\n",
              "    </tr>\n",
              "    <tr>\n",
              "      <th rowspan=\"3\" valign=\"top\">Staten Island</th>\n",
              "      <th>Entire home/apt</th>\n",
              "      <td>121.089286</td>\n",
              "    </tr>\n",
              "    <tr>\n",
              "      <th>Private room</th>\n",
              "      <td>62.292553</td>\n",
              "    </tr>\n",
              "    <tr>\n",
              "      <th>Shared room</th>\n",
              "      <td>57.444444</td>\n",
              "    </tr>\n",
              "  </tbody>\n",
              "</table>\n",
              "</div>"
            ],
            "text/plain": [
              "                                           mean\n",
              "neighbourhood_group room_type                  \n",
              "Bronx               Entire home/apt  112.195592\n",
              "                    Private room      60.689335\n",
              "                    Shared room       47.254237\n",
              "Brooklyn            Entire home/apt  148.218656\n",
              "                    Private room      70.324515\n",
              "                    Shared room       48.271394\n",
              "Manhattan           Entire home/apt  181.644693\n",
              "                    Private room      98.057700\n",
              "                    Shared room       75.866379\n",
              "Queens              Entire home/apt  131.328388\n",
              "                    Private room      65.732319\n",
              "                    Shared room       46.989691\n",
              "Staten Island       Entire home/apt  121.089286\n",
              "                    Private room      62.292553\n",
              "                    Shared room       57.444444"
            ]
          },
          "metadata": {
            "tags": []
          },
          "execution_count": 42
        }
      ]
    },
    {
      "cell_type": "code",
      "metadata": {
        "id": "PJk5LQ_PmRY8",
        "colab": {
          "base_uri": "https://localhost:8080/",
          "height": 443
        },
        "outputId": "4a98cfdf-90b5-4bd2-e53d-060f63b84aad"
      },
      "source": [
        "plt.figure(figsize = (16,7))\n",
        "sns.barplot(x = 'neighbourhood_group', y = 'price', data = df1, hue='room_type')\n",
        "plt.show()"
      ],
      "execution_count": 43,
      "outputs": [
        {
          "output_type": "display_data",
          "data": {
            "image/png": "[encoded data removed]",
            "text/plain": [
              "<Figure size 1152x504 with 1 Axes>"
            ]
          },
          "metadata": {
            "tags": [],
            "needs_background": "light"
          }
        }
      ]
    },
    {
      "cell_type": "markdown",
      "metadata": {
        "id": "snL7Q0MamiwG"
      },
      "source": [
        "*Properties whose neighbourhood group is Manhattan have the highest avg pricing. We guess, that's why there are highest no.of properties available in Manhattan Neighbourhood Group.*\n",
        "\n",
        "*While if we talk about room type then the Entire home/apt is very costly among all types of properties.*"
      ]
    },
    {
      "cell_type": "markdown",
      "metadata": {
        "id": "r5q1bqKxMI4_"
      },
      "source": [
        "#### Q3 - Key Insights of Traffic Among Different Areas!"
      ]
    },
    {
      "cell_type": "code",
      "metadata": {
        "id": "rA6z8ccQaVxS"
      },
      "source": [
        "#No. of total reviews according to different Room Types and Neighbourhood Groups\n",
        "\n",
        "total_review_hood = df.groupby(['neighbourhood_group', 'room_type'])['number_of_reviews'].count().unstack()"
      ],
      "execution_count": 44,
      "outputs": []
    },
    {
      "cell_type": "code",
      "metadata": {
        "id": "_qtugQYAqoXH",
        "colab": {
          "base_uri": "https://localhost:8080/",
          "height": 235
        },
        "outputId": "0ae8eaeb-2492-4b9f-a6bb-de3abcc3b7fc"
      },
      "source": [
        "total_review_hood"
      ],
      "execution_count": 45,
      "outputs": [
        {
          "output_type": "execute_result",
          "data": {
            "text/html": [
              "<div>\n",
              "<style scoped>\n",
              "    .dataframe tbody tr th:only-of-type {\n",
              "        vertical-align: middle;\n",
              "    }\n",
              "\n",
              "    .dataframe tbody tr th {\n",
              "        vertical-align: top;\n",
              "    }\n",
              "\n",
              "    .dataframe thead th {\n",
              "        text-align: right;\n",
              "    }\n",
              "</style>\n",
              "<table border=\"1\" class=\"dataframe\">\n",
              "  <thead>\n",
              "    <tr style=\"text-align: right;\">\n",
              "      <th>room_type</th>\n",
              "      <th>Entire home/apt</th>\n",
              "      <th>Private room</th>\n",
              "      <th>Shared room</th>\n",
              "    </tr>\n",
              "    <tr>\n",
              "      <th>neighbourhood_group</th>\n",
              "      <th></th>\n",
              "      <th></th>\n",
              "      <th></th>\n",
              "    </tr>\n",
              "  </thead>\n",
              "  <tbody>\n",
              "    <tr>\n",
              "      <th>Bronx</th>\n",
              "      <td>379</td>\n",
              "      <td>651</td>\n",
              "      <td>60</td>\n",
              "    </tr>\n",
              "    <tr>\n",
              "      <th>Brooklyn</th>\n",
              "      <td>9558</td>\n",
              "      <td>10126</td>\n",
              "      <td>411</td>\n",
              "    </tr>\n",
              "    <tr>\n",
              "      <th>Manhattan</th>\n",
              "      <td>13198</td>\n",
              "      <td>7982</td>\n",
              "      <td>480</td>\n",
              "    </tr>\n",
              "    <tr>\n",
              "      <th>Queens</th>\n",
              "      <td>2096</td>\n",
              "      <td>3372</td>\n",
              "      <td>198</td>\n",
              "    </tr>\n",
              "    <tr>\n",
              "      <th>Staten Island</th>\n",
              "      <td>176</td>\n",
              "      <td>188</td>\n",
              "      <td>9</td>\n",
              "    </tr>\n",
              "  </tbody>\n",
              "</table>\n",
              "</div>"
            ],
            "text/plain": [
              "room_type            Entire home/apt  Private room  Shared room\n",
              "neighbourhood_group                                            \n",
              "Bronx                            379           651           60\n",
              "Brooklyn                        9558         10126          411\n",
              "Manhattan                      13198          7982          480\n",
              "Queens                          2096          3372          198\n",
              "Staten Island                    176           188            9"
            ]
          },
          "metadata": {
            "tags": []
          },
          "execution_count": 45
        }
      ]
    },
    {
      "cell_type": "code",
      "metadata": {
        "id": "PEt4fdKFbWX6",
        "colab": {
          "base_uri": "https://localhost:8080/",
          "height": 443
        },
        "outputId": "22bc368a-df07-4780-83ce-da8b649a9b67"
      },
      "source": [
        "plt.figure(figsize = (13,7))\n",
        "sns.barplot(x = 'neighbourhood_group', y = 'number_of_reviews', hue = 'room_type', data = df1)\n",
        "plt.show()"
      ],
      "execution_count": 46,
      "outputs": [
        {
          "output_type": "display_data",
          "data": {
            "image/png": "[encoded data removed]",
            "text/plain": [
              "<Figure size 936x504 with 1 Axes>"
            ]
          },
          "metadata": {
            "tags": [],
            "needs_background": "light"
          }
        }
      ]
    },
    {
      "cell_type": "markdown",
      "metadata": {
        "id": "QrsypVZ-R_Ot"
      },
      "source": [
        "From the above data, We can guess that **Entire Room/apt** have the highest no. \n",
        "of reviews in all the neighbourhood group while Private Room stands second.\n",
        "\n",
        "We guess that, **Entire Room/apt and private rooms** are the most busiest properties in all the neighbourhood group because they have **higher no. of reviews than others**.\n",
        "\n",
        "While **Staten Island's Entire Room/apt and private rooms** stands first because it has **most no. of reviews**.\n",
        "\n",
        "But why it is getting that much reviews and bookings?\n",
        "\n",
        "Let's again check the **average pricing for Staten Island** in the above figure.\n",
        "\n",
        "Average price for Entire home/apt is about **121.089286 dollars** while for a private room, It is about **62.3 dollars** which is in the segment of lowest pricing.\n",
        "\n",
        "We think that's why, They have higher reviews (even more bookings)."
      ]
    },
    {
      "cell_type": "code",
      "metadata": {
        "id": "W90xvlozaBqQ",
        "colab": {
          "base_uri": "https://localhost:8080/",
          "height": 545
        },
        "outputId": "fb092227-4863-4951-a54a-df66067c442f"
      },
      "source": [
        "# Avg Reviews per month according to different Room Types and Neighbourhood Group\n",
        "\n",
        "df.groupby(['neighbourhood_group', 'room_type'])['reviews_per_month'].agg(['mean'])"
      ],
      "execution_count": 47,
      "outputs": [
        {
          "output_type": "execute_result",
          "data": {
            "text/html": [
              "<div>\n",
              "<style scoped>\n",
              "    .dataframe tbody tr th:only-of-type {\n",
              "        vertical-align: middle;\n",
              "    }\n",
              "\n",
              "    .dataframe tbody tr th {\n",
              "        vertical-align: top;\n",
              "    }\n",
              "\n",
              "    .dataframe thead th {\n",
              "        text-align: right;\n",
              "    }\n",
              "</style>\n",
              "<table border=\"1\" class=\"dataframe\">\n",
              "  <thead>\n",
              "    <tr style=\"text-align: right;\">\n",
              "      <th></th>\n",
              "      <th></th>\n",
              "      <th>mean</th>\n",
              "    </tr>\n",
              "    <tr>\n",
              "      <th>neighbourhood_group</th>\n",
              "      <th>room_type</th>\n",
              "      <th></th>\n",
              "    </tr>\n",
              "  </thead>\n",
              "  <tbody>\n",
              "    <tr>\n",
              "      <th rowspan=\"3\" valign=\"top\">Bronx</th>\n",
              "      <th>Entire home/apt</th>\n",
              "      <td>1.482850</td>\n",
              "    </tr>\n",
              "    <tr>\n",
              "      <th>Private room</th>\n",
              "      <td>0.984639</td>\n",
              "    </tr>\n",
              "    <tr>\n",
              "      <th>Shared room</th>\n",
              "      <td>0.633333</td>\n",
              "    </tr>\n",
              "    <tr>\n",
              "      <th rowspan=\"3\" valign=\"top\">Brooklyn</th>\n",
              "      <th>Entire home/apt</th>\n",
              "      <td>0.820151</td>\n",
              "    </tr>\n",
              "    <tr>\n",
              "      <th>Private room</th>\n",
              "      <td>0.711930</td>\n",
              "    </tr>\n",
              "    <tr>\n",
              "      <th>Shared room</th>\n",
              "      <td>0.486618</td>\n",
              "    </tr>\n",
              "    <tr>\n",
              "      <th rowspan=\"3\" valign=\"top\">Manhattan</th>\n",
              "      <th>Entire home/apt</th>\n",
              "      <td>0.609562</td>\n",
              "    </tr>\n",
              "    <tr>\n",
              "      <th>Private room</th>\n",
              "      <td>0.857554</td>\n",
              "    </tr>\n",
              "    <tr>\n",
              "      <th>Shared room</th>\n",
              "      <td>1.058333</td>\n",
              "    </tr>\n",
              "    <tr>\n",
              "      <th rowspan=\"3\" valign=\"top\">Queens</th>\n",
              "      <th>Entire home/apt</th>\n",
              "      <td>1.318225</td>\n",
              "    </tr>\n",
              "    <tr>\n",
              "      <th>Private room</th>\n",
              "      <td>1.224199</td>\n",
              "    </tr>\n",
              "    <tr>\n",
              "      <th>Shared room</th>\n",
              "      <td>0.893939</td>\n",
              "    </tr>\n",
              "    <tr>\n",
              "      <th rowspan=\"3\" valign=\"top\">Staten Island</th>\n",
              "      <th>Entire home/apt</th>\n",
              "      <td>1.403409</td>\n",
              "    </tr>\n",
              "    <tr>\n",
              "      <th>Private room</th>\n",
              "      <td>1.069149</td>\n",
              "    </tr>\n",
              "    <tr>\n",
              "      <th>Shared room</th>\n",
              "      <td>0.555556</td>\n",
              "    </tr>\n",
              "  </tbody>\n",
              "</table>\n",
              "</div>"
            ],
            "text/plain": [
              "                                         mean\n",
              "neighbourhood_group room_type                \n",
              "Bronx               Entire home/apt  1.482850\n",
              "                    Private room     0.984639\n",
              "                    Shared room      0.633333\n",
              "Brooklyn            Entire home/apt  0.820151\n",
              "                    Private room     0.711930\n",
              "                    Shared room      0.486618\n",
              "Manhattan           Entire home/apt  0.609562\n",
              "                    Private room     0.857554\n",
              "                    Shared room      1.058333\n",
              "Queens              Entire home/apt  1.318225\n",
              "                    Private room     1.224199\n",
              "                    Shared room      0.893939\n",
              "Staten Island       Entire home/apt  1.403409\n",
              "                    Private room     1.069149\n",
              "                    Shared room      0.555556"
            ]
          },
          "metadata": {
            "tags": []
          },
          "execution_count": 47
        }
      ]
    },
    {
      "cell_type": "code",
      "metadata": {
        "id": "NeM7x9uXm7pu",
        "colab": {
          "base_uri": "https://localhost:8080/",
          "height": 443
        },
        "outputId": "154506d5-14ff-416a-f195-4e2e89cdaa52"
      },
      "source": [
        "plt.figure(figsize = (14,7))\n",
        "sns.barplot(x = 'neighbourhood_group', y = 'reviews_per_month', hue = 'room_type', data = df1)\n",
        "plt.show()"
      ],
      "execution_count": 48,
      "outputs": [
        {
          "output_type": "display_data",
          "data": {
            "image/png": "[encoded data removed]",
            "text/plain": [
              "<Figure size 1008x504 with 1 Axes>"
            ]
          },
          "metadata": {
            "tags": [],
            "needs_background": "light"
          }
        }
      ]
    },
    {
      "cell_type": "markdown",
      "metadata": {
        "id": "8aoyePMdokPQ"
      },
      "source": [
        "*Entire home/apt in Bronx and Staten Island Neighbourhood Group got the most no. of reviews per month on an avearge.*\n",
        "\n",
        "*We can predict that, Peoples are more likely to review an entire home/apt than any other type property.*\n",
        "\n",
        "From the above data, We got to know that **Entire Room/apt** has the most no. of reviews per month and also these Neighbourhood Group have the average lowest pricing so we can predict that these properties are the most busiest properties.\n"
      ]
    },
    {
      "cell_type": "code",
      "metadata": {
        "id": "hQymcvCgxCjS"
      },
      "source": [
        "#Avg booking duration according to different Room Types and Neighbourhood Group\n",
        "\n",
        "avg_booking_duration = df.groupby(['neighbourhood_group', 'room_type'])['minimum_nights'].agg(['mean'])"
      ],
      "execution_count": 49,
      "outputs": []
    },
    {
      "cell_type": "code",
      "metadata": {
        "id": "H5JdNnojokPG",
        "colab": {
          "base_uri": "https://localhost:8080/",
          "height": 545
        },
        "outputId": "1278a128-9b7d-4bfc-88e3-31e452cef47a"
      },
      "source": [
        "avg_booking_duration"
      ],
      "execution_count": 50,
      "outputs": [
        {
          "output_type": "execute_result",
          "data": {
            "text/html": [
              "<div>\n",
              "<style scoped>\n",
              "    .dataframe tbody tr th:only-of-type {\n",
              "        vertical-align: middle;\n",
              "    }\n",
              "\n",
              "    .dataframe tbody tr th {\n",
              "        vertical-align: top;\n",
              "    }\n",
              "\n",
              "    .dataframe thead th {\n",
              "        text-align: right;\n",
              "    }\n",
              "</style>\n",
              "<table border=\"1\" class=\"dataframe\">\n",
              "  <thead>\n",
              "    <tr style=\"text-align: right;\">\n",
              "      <th></th>\n",
              "      <th></th>\n",
              "      <th>mean</th>\n",
              "    </tr>\n",
              "    <tr>\n",
              "      <th>neighbourhood_group</th>\n",
              "      <th>room_type</th>\n",
              "      <th></th>\n",
              "    </tr>\n",
              "  </thead>\n",
              "  <tbody>\n",
              "    <tr>\n",
              "      <th rowspan=\"3\" valign=\"top\">Bronx</th>\n",
              "      <th>Entire home/apt</th>\n",
              "      <td>5.957784</td>\n",
              "    </tr>\n",
              "    <tr>\n",
              "      <th>Private room</th>\n",
              "      <td>3.861751</td>\n",
              "    </tr>\n",
              "    <tr>\n",
              "      <th>Shared room</th>\n",
              "      <td>3.366667</td>\n",
              "    </tr>\n",
              "    <tr>\n",
              "      <th rowspan=\"3\" valign=\"top\">Brooklyn</th>\n",
              "      <th>Entire home/apt</th>\n",
              "      <td>6.531492</td>\n",
              "    </tr>\n",
              "    <tr>\n",
              "      <th>Private room</th>\n",
              "      <td>5.541675</td>\n",
              "    </tr>\n",
              "    <tr>\n",
              "      <th>Shared room</th>\n",
              "      <td>7.644769</td>\n",
              "    </tr>\n",
              "    <tr>\n",
              "      <th rowspan=\"3\" valign=\"top\">Manhattan</th>\n",
              "      <th>Entire home/apt</th>\n",
              "      <td>10.539855</td>\n",
              "    </tr>\n",
              "    <tr>\n",
              "      <th>Private room</th>\n",
              "      <td>5.446880</td>\n",
              "    </tr>\n",
              "    <tr>\n",
              "      <th>Shared room</th>\n",
              "      <td>6.766667</td>\n",
              "    </tr>\n",
              "    <tr>\n",
              "      <th rowspan=\"3\" valign=\"top\">Queens</th>\n",
              "      <th>Entire home/apt</th>\n",
              "      <td>5.369752</td>\n",
              "    </tr>\n",
              "    <tr>\n",
              "      <th>Private room</th>\n",
              "      <td>5.120107</td>\n",
              "    </tr>\n",
              "    <tr>\n",
              "      <th>Shared room</th>\n",
              "      <td>4.232323</td>\n",
              "    </tr>\n",
              "    <tr>\n",
              "      <th rowspan=\"3\" valign=\"top\">Staten Island</th>\n",
              "      <th>Entire home/apt</th>\n",
              "      <td>6.238636</td>\n",
              "    </tr>\n",
              "    <tr>\n",
              "      <th>Private room</th>\n",
              "      <td>3.632979</td>\n",
              "    </tr>\n",
              "    <tr>\n",
              "      <th>Shared room</th>\n",
              "      <td>2.333333</td>\n",
              "    </tr>\n",
              "  </tbody>\n",
              "</table>\n",
              "</div>"
            ],
            "text/plain": [
              "                                          mean\n",
              "neighbourhood_group room_type                 \n",
              "Bronx               Entire home/apt   5.957784\n",
              "                    Private room      3.861751\n",
              "                    Shared room       3.366667\n",
              "Brooklyn            Entire home/apt   6.531492\n",
              "                    Private room      5.541675\n",
              "                    Shared room       7.644769\n",
              "Manhattan           Entire home/apt  10.539855\n",
              "                    Private room      5.446880\n",
              "                    Shared room       6.766667\n",
              "Queens              Entire home/apt   5.369752\n",
              "                    Private room      5.120107\n",
              "                    Shared room       4.232323\n",
              "Staten Island       Entire home/apt   6.238636\n",
              "                    Private room      3.632979\n",
              "                    Shared room       2.333333"
            ]
          },
          "metadata": {
            "tags": []
          },
          "execution_count": 50
        }
      ]
    },
    {
      "cell_type": "code",
      "metadata": {
        "colab": {
          "base_uri": "https://localhost:8080/",
          "height": 388
        },
        "id": "a0WrZf4Jy8Ku",
        "outputId": "91dca91f-f989-4644-bdcf-6626233ca15c"
      },
      "source": [
        "# minimum night stay in different room_type\n",
        "\n",
        "plt.figure(figsize=(13,6))\n",
        "sns.lineplot(x = 'neighbourhood_group', y = 'minimum_nights', hue = 'room_type' ,data = df1)\n",
        "plt.ylabel('Avg No of Nights')\n",
        "plt.xlabel('Different Neighbourhood Groups')\n",
        "plt.show()"
      ],
      "execution_count": 51,
      "outputs": [
        {
          "output_type": "display_data",
          "data": {
            "image/png": "[encoded data removed]",
            "text/plain": [
              "<Figure size 936x432 with 1 Axes>"
            ]
          },
          "metadata": {
            "tags": [],
            "needs_background": "light"
          }
        }
      ]
    },
    {
      "cell_type": "markdown",
      "metadata": {
        "id": "LLiZ0Axap1lX"
      },
      "source": [
        "Avg minimum night duration of properties in Manhattan Neighbourhood Group is highest. "
      ]
    },
    {
      "cell_type": "markdown",
      "metadata": {
        "id": "mQntD1ZWTVUQ"
      },
      "source": [
        "We have explored our dataset and we have understood some **interesting key insights** from our dataset. We not only have answers of above questions but we have explored some more things that is directly or indirectly impacting the business.\n",
        "\n",
        "This Data Analysis also includes Outliers Removal in Data Cleaning which makes our key insights more accurate.\n",
        "\n",
        "Now we're going to start answering some of our questions where we started the  Data Analysis of our Dataset.\n",
        "\n",
        "Now the first questions was -\n",
        "\n",
        "**1. What can we learn about different hosts and areas?**\n",
        "\n",
        "Manhattan and Brooklyn Neighbourhood Group have more than 20,000 active Properties which is about **85.6 %** of total properties listed on AIRBNB.\n",
        "\n",
        "The reason behind this is, Pricing in Manhattan and Brooklyn Neighbourhood Group is the highest among all the Neighbourhood Group especially for **Entire Room/apt and Private Room**.\n",
        "\n",
        "So, Host in Manhattan and Brooklyn Neighbourhood Group gets highest pricing for their room type among all the room types in different Neighbourhood Groups.\n",
        "\n",
        "**2. What can we learn from predictions? (ex: locations, prices, reviews, etc)**\n",
        "\n",
        "Entire Room/apt have the highest no. of reviews in all the neighbourhood group while Private Room stands second.\n",
        "\n",
        "Now we'll analyze the **Staten Island's Entire Room/apt and private rooms** because they stands first in terms of reviews.\n",
        "\n",
        "In that Neighbourhood Group, Average price for Entire home/apt is about **175 Dollar/night** while for a **private room**, It is about 75 Dollar/night which is the lowest price among all the property types.\n",
        "\n",
        "We think that's why, **Staten Island** have more bookings and higher reviews due to their affordable pricing.\n",
        "\n",
        "**3. Which property type is the busiest and why?**\n",
        "\n",
        "In **[Bronx]** Neighbourhood Group, Entire Room/apt has the **most no. of reviews** and Customer's first preference is also Entire Room/apt.\n",
        "\n",
        "So from the data visualization, We got to know, Neighbourhood Group **[Bronx]** have the **lowest average pricing** for Entire Room/apt so we can predict, This property type is the most busiest property due to their **lowest pricing**.\n",
        "\n",
        "**4. Any Traffic difference among different areas?**\n",
        "\n",
        "No doubt pricing is the most crucial factor for the hosts and customers. The lower the pricing is, the higher the reviews for that property and our Data has proved it.\n",
        "\n",
        "So properties which are cheaper have more traffic than the others.\n",
        "\n",
        "\n",
        "**5. Which type of room has the highest and lowest reviews and why?**\n",
        "\n",
        "**Enire Room/apt in Bronx** has the highest average ratings while **Shared Room in Brooklyn** has the lowest ratings on an average.\n",
        "\n",
        "Let's analyze there average pricing -\n",
        "\n",
        "**Highest Rating Property -**\n",
        "\n",
        "Enire Room/apt in Bronx: **$127.5/Night** (It is the cheapest room type among all the Neighbourhood Group with the most preferred property)\n",
        "\n",
        "**Lowest Rating Property**\n",
        "\n",
        "Shared Room in Brooklyn: **$50.7/Night** (It is also cheapest property in its segment but customers do not prefer this property type, may be due to privacy.)\n",
        "\n",
        "**6. Is there any other crucial factor for hosts than pricing?**\n",
        "\n",
        "\n",
        "Entire Home/apt in **[Staten Island and Bronx]** Neighbourhood Group have the most no. of stars rating while this property type also gets **highest no. of reviews per month** than any other property type.\n",
        "\n",
        "So, property type which have most no. of reviews gets the highest average rating per month.\n",
        "\n",
        "which directly says, Property with highest review get most bookings.\n",
        "\n",
        "So, After pricing **Review** is one of the most crucial fators. \n",
        "\n",
        "\n",
        "\n"
      ]
    }
  ]
}